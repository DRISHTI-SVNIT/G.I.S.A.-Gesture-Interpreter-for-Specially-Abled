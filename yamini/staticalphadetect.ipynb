{
 "cells": [
  {
   "cell_type": "code",
   "execution_count": 55,
   "metadata": {},
   "outputs": [],
   "source": [
    "import cv2\n",
    "import tensorflow as tf\n",
    "import numpy as np\n",
    "import math\n",
    "import time\n",
    "model = tf.keras.models.load_model(\"3layer.model\")\n",
    "model1 = tf.keras.models.load_model(\"3layerdense2.model\")\n"
   ]
  },
  {
   "cell_type": "code",
   "execution_count": 56,
   "metadata": {},
   "outputs": [],
   "source": [
    "def callback(x):\n",
    "    pass"
   ]
  },
  {
   "cell_type": "code",
   "execution_count": 57,
   "metadata": {},
   "outputs": [],
   "source": [
    "def prepare(ima):\n",
    "    IMG_SIZE = 100\n",
    "    img_array=ima*255\n",
    "    \n",
    "   # img_array = cv2.cvtColor(ima,cv2.COLOR_BGR2GRAY)\n",
    "    img_array=img_array/255.0  \n",
    "    new_array = cv2.resize(img_array, (IMG_SIZE, IMG_SIZE))  # resize image to match model's expected sizing\n",
    "    return new_array.reshape(-1,IMG_SIZE, IMG_SIZE,1)\n",
    "\n",
    "def alpha(prediction):\n",
    "    if(prediction==0):\n",
    "        prediction='B'\n",
    "    elif(prediction==1):\n",
    "        prediction='C'\n",
    "    elif(prediction==2):\n",
    "        prediction='L'\n",
    "    elif(prediction==3):\n",
    "        prediction='N'\n",
    "    elif(prediction==4):\n",
    "        prediction='O'\n",
    "    elif(prediction==5):\n",
    "        prediction='P'\n",
    "    elif(prediction==6):\n",
    "        prediction='S'\n",
    "    elif(prediction==7):\n",
    "        prediction='U'\n",
    "    elif(prediction==8):\n",
    "        prediction='V'\n",
    "    elif(prediction==9):\n",
    "        prediction='Z'\n",
    "    else:\n",
    "        prediction='nothing'\n",
    "    return prediction"
   ]
  },
  {
   "cell_type": "code",
   "execution_count": 51,
   "metadata": {},
   "outputs": [],
   "source": [
    "imge=cv2.imread(\"./array_images/17.jpg\");\n",
    "new1 = cv2.cvtColor(imge, cv2.COLOR_BGR2GRAY)\n",
    "prediction = model.predict([prepare(new1)])\n",
    "prediction=np.argmax(prediction)\n",
    "x1=alpha(prediction)\n",
    "\n",
    "cv2.putText(imge,str(x1),(60,60),cv2.FONT_HERSHEY_SIMPLEX,3.0,(0,255,255),lineType=cv2.LINE_AA)\n",
    "cv2.imwrite(\"dummy.jpg\",imge)\n",
    "imge=cv2.imread(\"dummy.jpg\")\n",
    "cv2.imshow(\"yeah\",imge)\n",
    "cv2.waitKey(0)\n",
    "cv2.destroyAllWindows()"
   ]
  },
  {
   "cell_type": "code",
   "execution_count": 52,
   "metadata": {},
   "outputs": [],
   "source": [
    "for i in range(17,60):\n",
    "    imge=cv2.imread(\"./array_images/\"+str(i)+\".jpg\");\n",
    "    new1 = cv2.cvtColor(imge, cv2.COLOR_BGR2GRAY)\n",
    "    prediction = model.predict([prepare(new1)])\n",
    "    prediction=np.argmax(prediction)\n",
    "    x1=alpha(prediction)\n",
    "\n",
    "    cv2.putText(imge,str(x1),(60,60),cv2.FONT_HERSHEY_SIMPLEX,3.0,(0,255,255),lineType=cv2.LINE_AA)\n",
    "    cv2.imwrite(\"dummy.jpg\",imge)\n",
    "    imge=cv2.imread(\"dummy.jpg\")\n",
    "    cv2.imshow(\"3l\",imge)\n",
    "    \n",
    "    cv2.waitKey(0)\n",
    "\n",
    "cv2.destroyAllWindows()"
   ]
  },
  {
   "cell_type": "code",
   "execution_count": 62,
   "metadata": {},
   "outputs": [],
   "source": [
    "\n",
    "for i in range(7,46):\n",
    "    imge=cv2.imread(\"./array_images/\"+str(i)+\".jpg\");\n",
    "    new1 = cv2.cvtColor(imge, cv2.COLOR_BGR2GRAY)\n",
    "    prediction = model.predict([prepare(new1)])\n",
    "    prediction=np.argmax(prediction)\n",
    "    x1=alpha(prediction)\n",
    "\n",
    "    cv2.putText(imge,str(x1),(60,60),cv2.FONT_HERSHEY_SIMPLEX,3.0,(0,255,255),lineType=cv2.LINE_AA)\n",
    "    cv2.imwrite(\"dummy.jpg\",imge)\n",
    "    imge=cv2.imread(\"dummy.jpg\")\n",
    "    cv2.imshow(\"3l\",imge)\n",
    "    \n",
    "    \n",
    "    imge1=cv2.imread(\"./array_images/\"+str(i)+\".jpg\");\n",
    "    new1 = cv2.cvtColor(imge1, cv2.COLOR_BGR2GRAY)\n",
    "    prediction = model1.predict([prepare(new1)])\n",
    "    prediction=np.argmax(prediction)\n",
    "    x1=alpha(prediction)\n",
    "\n",
    "    cv2.putText(imge1,str(x1),(60,60),cv2.FONT_HERSHEY_SIMPLEX,3.0,(0,255,255),lineType=cv2.LINE_AA)\n",
    "    cv2.imwrite(\"dummy.jpg\",imge1)\n",
    "    imge1=cv2.imread(\"dummy.jpg\")\n",
    "    cv2.imshow(\"3l2d\",imge1)\n",
    "    \n",
    "    cv2.waitKey(0)\n",
    "\n",
    "cv2.destroyAllWindows()\n"
   ]
  },
  {
   "cell_type": "code",
   "execution_count": null,
   "metadata": {},
   "outputs": [],
   "source": []
  }
 ],
 "metadata": {
  "kernelspec": {
   "display_name": "Python 3",
   "language": "python",
   "name": "python3"
  },
  "language_info": {
   "codemirror_mode": {
    "name": "ipython",
    "version": 3
   },
   "file_extension": ".py",
   "mimetype": "text/x-python",
   "name": "python",
   "nbconvert_exporter": "python",
   "pygments_lexer": "ipython3",
   "version": "3.6.7"
  }
 },
 "nbformat": 4,
 "nbformat_minor": 2
}
