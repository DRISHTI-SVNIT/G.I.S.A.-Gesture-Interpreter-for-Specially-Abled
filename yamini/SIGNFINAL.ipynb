{
 "cells": [
  {
   "cell_type": "code",
   "execution_count": 1,
   "metadata": {},
   "outputs": [],
   "source": [
    "import cv2\n",
    "import tensorflow as tf\n",
    "import numpy as np"
   ]
  },
  {
   "cell_type": "code",
   "execution_count": 2,
   "metadata": {},
   "outputs": [],
   "source": [
    "model = tf.keras.models.load_model(\"CNNWHITE.model\")"
   ]
  },
  {
   "cell_type": "code",
   "execution_count": 3,
   "metadata": {},
   "outputs": [],
   "source": [
    "def prepare(ima):\n",
    "    IMG_SIZE = 100  # 50 in txt-based\n",
    "    img_array = cv2.cvtColor(ima,cv2.COLOR_BGR2GRAY)\n",
    "    img_array=img_array/255.0  # filepathread in the image, convert to grayscale\n",
    "    new_array = cv2.resize(img_array, (IMG_SIZE, IMG_SIZE))  # resize image to match model's expected sizing\n",
    "    return new_array.reshape(-1,IMG_SIZE, IMG_SIZE,1)"
   ]
  },
  {
   "cell_type": "code",
   "execution_count": 4,
   "metadata": {},
   "outputs": [],
   "source": [
    "def paa_skin(frame):    \n",
    "    ycrcb=cv2.cvtColor(frame,cv2.COLOR_BGR2YCrCb)\n",
    "    hsv=cv2.cvtColor(frame,cv2.COLOR_BGR2HSV)\n",
    "    b,g,r = cv2.split (frame)\n",
    "    Y,Cr,Cb=cv2.split(ycrcb)\n",
    "    H,S,V=cv2.split(hsv)\n",
    "    #S=S/(H+S+V)\n",
    "    \n",
    "    result=((0.0 <=H)*(H <= 50.0)*(0.23 <= S)*(S<= 0.68)*(r > 95)*(g > 40)*(b > 20)*(r > g)*(r > b)*(abs(r - g)> 15)+(r > 95)*(g > 40)*(b > 20)*(r > g)*(r > b)*(abs(r - g ) > 15)*(Cr > 135)*(Cb > 85)*(Y > 80)*(Cr <= (1.5862*Cb)+20)*(Cr>=(0.3448*Cb)+76.2069)*(Cr >= (-4.5652*Cb)+234.5652)*(Cr <= (-1.15*Cb)+301.75)*(Cr <= (-2.2857*Cb)+432.85))*255\n",
    "    result=cv2.merge((result,result,result))\n",
    "    img2=frame&result\n",
    "    img3=255-result\n",
    "    img4=img2+img3\n",
    "    cv2.imwrite('image.jpeg',img4)\n",
    "    img1=cv2.imread('image.jpeg')\n",
    "    \n",
    "    return img1"
   ]
  },
  {
   "cell_type": "code",
   "execution_count": 6,
   "metadata": {},
   "outputs": [],
   "source": [
    "cap=cv2.VideoCapture(0)\n",
    "cx=100\n",
    "cy=100\n",
    "rw=300\n",
    "rh=300\n",
    "while True:\n",
    "    ret, image=cap.read()\n",
    "    new=paa_skin(image)\n",
    "    cv2.imshow('new',new)\n",
    "    pre=new[cx:rw,cy:rh]\n",
    "    prediction = model.predict([prepare(pre)])\n",
    "    prediction=np.argmax(prediction)\n",
    "    x1=prediction\n",
    "    try:\n",
    "         cv2.putText(new,str(x1),(50,50),cv2.FONT_HERSHEY_SIMPLEX,1.0,(255,0,0),lineType=cv2.LINE_AA)\n",
    "    except:\n",
    "          print(\"Variable x1 is not empty\")\n",
    "    cv2.rectangle(new,(cx,cy),(cx+rw,cy+rh),(0,255,0),2)\n",
    "    cv2.imshow('new',new)\n",
    "    keypress = cv2.waitKey(1) & 0xFF\n",
    "    if keypress == ord('q'):\n",
    "        break\n",
    "cap.release()\n",
    "cv2.destroyAllWindows()"
   ]
  },
  {
   "cell_type": "code",
   "execution_count": null,
   "metadata": {},
   "outputs": [],
   "source": []
  }
 ],
 "metadata": {
  "kernelspec": {
   "display_name": "Python 3",
   "language": "python",
   "name": "python3"
  },
  "language_info": {
   "codemirror_mode": {
    "name": "ipython",
    "version": 3
   },
   "file_extension": ".py",
   "mimetype": "text/x-python",
   "name": "python",
   "nbconvert_exporter": "python",
   "pygments_lexer": "ipython3",
   "version": "3.6.7"
  }
 },
 "nbformat": 4,
 "nbformat_minor": 2
}
