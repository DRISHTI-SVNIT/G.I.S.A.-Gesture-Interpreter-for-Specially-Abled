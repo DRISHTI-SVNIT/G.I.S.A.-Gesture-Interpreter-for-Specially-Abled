{
 "cells": [
  {
   "cell_type": "code",
   "execution_count": 1,
   "metadata": {
    "colab": {
     "base_uri": "https://localhost:8080/",
     "height": 121
    },
    "colab_type": "code",
    "id": "-DNPOR8PwY_U",
    "outputId": "11f89cdc-fe96-488e-f684-d624850260bb"
   },
   "outputs": [
    {
     "name": "stdout",
     "output_type": "stream",
     "text": [
      "Go to this URL in a browser: https://accounts.google.com/o/oauth2/auth?client_id=947318989803-6bn6qk8qdgf4n4g3pfee6491hc0brc4i.apps.googleusercontent.com&redirect_uri=urn%3aietf%3awg%3aoauth%3a2.0%3aoob&response_type=code&scope=email%20https%3a%2f%2fwww.googleapis.com%2fauth%2fdocs.test%20https%3a%2f%2fwww.googleapis.com%2fauth%2fdrive%20https%3a%2f%2fwww.googleapis.com%2fauth%2fdrive.photos.readonly%20https%3a%2f%2fwww.googleapis.com%2fauth%2fpeopleapi.readonly\n",
      "\n",
      "Enter your authorization code:\n",
      "··········\n",
      "Mounted at /content/drive\n"
     ]
    }
   ],
   "source": [
    "from google.colab import drive\n",
    "drive.mount('/content/drive')"
   ]
  },
  {
   "cell_type": "code",
   "execution_count": 2,
   "metadata": {
    "colab": {
     "base_uri": "https://localhost:8080/",
     "height": 79
    },
    "colab_type": "code",
    "id": "lpNOhBDJ1A9C",
    "outputId": "f8e13f38-ba07-4f32-e0a5-22960569cee9"
   },
   "outputs": [
    {
     "name": "stderr",
     "output_type": "stream",
     "text": [
      "Using TensorFlow backend.\n"
     ]
    },
    {
     "data": {
      "text/html": [
       "<p style=\"color: red;\">\n",
       "The default version of TensorFlow in Colab will soon switch to TensorFlow 2.x.<br>\n",
       "We recommend you <a href=\"https://www.tensorflow.org/guide/migrate\" target=\"_blank\">upgrade</a> now \n",
       "or ensure your notebook will continue to use TensorFlow 1.x via the <code>%tensorflow_version 1.x</code> magic:\n",
       "<a href=\"https://colab.research.google.com/notebooks/tensorflow_version.ipynb\" target=\"_blank\">more info</a>.</p>\n"
      ],
      "text/plain": [
       "<IPython.core.display.HTML object>"
      ]
     },
     "metadata": {
      "tags": []
     },
     "output_type": "display_data"
    }
   ],
   "source": [
    "import keras\n",
    "from keras.datasets import mnist\n",
    "from keras.models import Sequential\n",
    "from keras.layers import Dense, Dropout, Flatten\n",
    "from keras.layers import Conv2D, MaxPooling2D\n",
    "import numpy as np"
   ]
  },
  {
   "cell_type": "code",
   "execution_count": 3,
   "metadata": {
    "colab": {
     "base_uri": "https://localhost:8080/",
     "height": 1000
    },
    "colab_type": "code",
    "id": "obuImbDX16yE",
    "outputId": "71b64af8-123c-43da-b4c2-9293fe2be25a"
   },
   "outputs": [
    {
     "name": "stdout",
     "output_type": "stream",
     "text": [
      "WARNING:tensorflow:From /usr/local/lib/python3.6/dist-packages/tensorflow_core/python/ops/resource_variable_ops.py:1630: calling BaseResourceVariable.__init__ (from tensorflow.python.ops.resource_variable_ops) with constraint is deprecated and will be removed in a future version.\n",
      "Instructions for updating:\n",
      "If using Keras pass *_constraint arguments to layers.\n",
      "Train on 2407 samples, validate on 803 samples\n",
      "Epoch 1/50\n",
      "2407/2407 [==============================] - 8s 3ms/sample - loss: 2.2595 - acc: 0.1367 - val_loss: 2.1167 - val_acc: 0.3188\n",
      "Epoch 2/50\n",
      "2407/2407 [==============================] - 2s 689us/sample - loss: 1.9634 - acc: 0.3174 - val_loss: 1.5650 - val_acc: 0.4857\n",
      "Epoch 3/50\n",
      "2407/2407 [==============================] - 2s 683us/sample - loss: 1.5533 - acc: 0.4948 - val_loss: 1.1314 - val_acc: 0.6488\n",
      "Epoch 4/50\n",
      "2407/2407 [==============================] - 2s 690us/sample - loss: 1.2328 - acc: 0.5891 - val_loss: 0.8375 - val_acc: 0.7347\n",
      "Epoch 5/50\n",
      "2407/2407 [==============================] - 2s 685us/sample - loss: 0.9940 - acc: 0.6755 - val_loss: 0.6321 - val_acc: 0.8057\n",
      "Epoch 6/50\n",
      "2407/2407 [==============================] - 2s 690us/sample - loss: 0.8740 - acc: 0.7158 - val_loss: 0.4985 - val_acc: 0.8506\n",
      "Epoch 7/50\n",
      "2407/2407 [==============================] - 2s 679us/sample - loss: 0.7056 - acc: 0.7578 - val_loss: 0.3947 - val_acc: 0.8792\n",
      "Epoch 8/50\n",
      "2407/2407 [==============================] - 2s 674us/sample - loss: 0.6181 - acc: 0.7906 - val_loss: 0.3230 - val_acc: 0.9091\n",
      "Epoch 9/50\n",
      "2407/2407 [==============================] - 2s 683us/sample - loss: 0.5429 - acc: 0.8176 - val_loss: 0.2560 - val_acc: 0.9228\n",
      "Epoch 10/50\n",
      "2407/2407 [==============================] - 2s 675us/sample - loss: 0.4723 - acc: 0.8326 - val_loss: 0.2108 - val_acc: 0.9427\n",
      "Epoch 11/50\n",
      "2407/2407 [==============================] - 2s 670us/sample - loss: 0.4264 - acc: 0.8517 - val_loss: 0.1786 - val_acc: 0.9589\n",
      "Epoch 12/50\n",
      "2407/2407 [==============================] - 2s 674us/sample - loss: 0.3543 - acc: 0.8795 - val_loss: 0.1425 - val_acc: 0.9664\n",
      "Epoch 13/50\n",
      "2407/2407 [==============================] - 2s 676us/sample - loss: 0.3070 - acc: 0.8982 - val_loss: 0.1235 - val_acc: 0.9689\n",
      "Epoch 14/50\n",
      "2407/2407 [==============================] - 2s 677us/sample - loss: 0.2831 - acc: 0.9036 - val_loss: 0.0914 - val_acc: 0.9801\n",
      "Epoch 15/50\n",
      "2407/2407 [==============================] - 2s 674us/sample - loss: 0.2625 - acc: 0.9074 - val_loss: 0.0816 - val_acc: 0.9788\n",
      "Epoch 16/50\n",
      "2407/2407 [==============================] - 2s 674us/sample - loss: 0.2416 - acc: 0.9140 - val_loss: 0.0688 - val_acc: 0.9788\n",
      "Epoch 17/50\n",
      "2407/2407 [==============================] - 2s 675us/sample - loss: 0.2250 - acc: 0.9186 - val_loss: 0.0579 - val_acc: 0.9863\n",
      "Epoch 18/50\n",
      "2407/2407 [==============================] - 2s 670us/sample - loss: 0.1935 - acc: 0.9319 - val_loss: 0.0389 - val_acc: 0.9938\n",
      "Epoch 19/50\n",
      "2407/2407 [==============================] - 2s 676us/sample - loss: 0.1935 - acc: 0.9373 - val_loss: 0.0393 - val_acc: 0.9938\n",
      "Epoch 20/50\n",
      "2407/2407 [==============================] - 2s 674us/sample - loss: 0.1654 - acc: 0.9406 - val_loss: 0.0317 - val_acc: 0.9938\n",
      "Epoch 21/50\n",
      "2407/2407 [==============================] - 2s 673us/sample - loss: 0.1540 - acc: 0.9456 - val_loss: 0.0232 - val_acc: 0.9950\n",
      "Epoch 22/50\n",
      "2407/2407 [==============================] - 2s 671us/sample - loss: 0.1403 - acc: 0.9447 - val_loss: 0.0160 - val_acc: 0.9988\n",
      "Epoch 23/50\n",
      "2407/2407 [==============================] - 2s 677us/sample - loss: 0.1291 - acc: 0.9551 - val_loss: 0.0197 - val_acc: 0.9963\n",
      "Epoch 24/50\n",
      "2407/2407 [==============================] - 2s 675us/sample - loss: 0.1309 - acc: 0.9535 - val_loss: 0.0159 - val_acc: 0.9988\n",
      "Epoch 25/50\n",
      "2407/2407 [==============================] - 2s 677us/sample - loss: 0.1189 - acc: 0.9580 - val_loss: 0.0136 - val_acc: 0.9988\n",
      "Epoch 26/50\n",
      "2407/2407 [==============================] - 2s 671us/sample - loss: 0.1209 - acc: 0.9547 - val_loss: 0.0135 - val_acc: 0.9988\n",
      "Epoch 27/50\n",
      "2407/2407 [==============================] - 2s 677us/sample - loss: 0.0880 - acc: 0.9709 - val_loss: 0.0119 - val_acc: 0.9975\n",
      "Epoch 28/50\n",
      "2407/2407 [==============================] - 2s 676us/sample - loss: 0.1083 - acc: 0.9630 - val_loss: 0.0145 - val_acc: 0.9963\n",
      "Epoch 29/50\n",
      "2407/2407 [==============================] - 2s 673us/sample - loss: 0.1001 - acc: 0.9622 - val_loss: 0.0112 - val_acc: 0.9988\n",
      "Epoch 30/50\n",
      "2407/2407 [==============================] - 2s 674us/sample - loss: 0.0797 - acc: 0.9755 - val_loss: 0.0072 - val_acc: 0.9988\n",
      "Epoch 31/50\n",
      "2407/2407 [==============================] - 2s 675us/sample - loss: 0.0872 - acc: 0.9742 - val_loss: 0.0058 - val_acc: 1.0000\n",
      "Epoch 32/50\n",
      "2407/2407 [==============================] - 2s 680us/sample - loss: 0.0668 - acc: 0.9742 - val_loss: 0.0061 - val_acc: 0.9988\n",
      "Epoch 33/50\n",
      "2407/2407 [==============================] - 2s 675us/sample - loss: 0.0726 - acc: 0.9717 - val_loss: 0.0045 - val_acc: 1.0000\n",
      "Epoch 34/50\n",
      "2407/2407 [==============================] - 2s 673us/sample - loss: 0.0833 - acc: 0.9668 - val_loss: 0.0038 - val_acc: 1.0000\n",
      "Epoch 35/50\n",
      "2407/2407 [==============================] - 2s 670us/sample - loss: 0.0732 - acc: 0.9730 - val_loss: 0.0039 - val_acc: 1.0000\n",
      "Epoch 36/50\n",
      "2407/2407 [==============================] - 2s 679us/sample - loss: 0.0717 - acc: 0.9726 - val_loss: 0.0040 - val_acc: 1.0000\n",
      "Epoch 37/50\n",
      "2336/2407 [============================>.] - ETA: 0s - loss: 0.0662 - acc: 0.9803\n",
      "Reached 98% accuracy so cancelling training!\n",
      "2407/2407 [==============================] - 2s 678us/sample - loss: 0.0655 - acc: 0.9801 - val_loss: 0.0030 - val_acc: 1.0000\n"
     ]
    }
   ],
   "source": [
    "import tensorflow as tf\n",
    "from tensorflow.keras.datasets import cifar10\n",
    "from tensorflow.keras.preprocessing.image import ImageDataGenerator\n",
    "from tensorflow.keras.models import Sequential\n",
    "from tensorflow.keras.models import Model\n",
    "from tensorflow.keras.layers import Dense, Dropout, Activation, Flatten,GlobalAveragePooling2D\n",
    "from tensorflow.keras.layers import Conv2D, MaxPooling2D\n",
    "from tensorflow.keras import applications\n",
    "\n",
    "import pickle\n",
    "import numpy as np\n",
    "from tensorflow.keras.optimizers import Adam\n",
    "\n",
    "class myCallback(tf.keras.callbacks.Callback):\n",
    "  def on_epoch_end(self, epoch, logs={}):\n",
    "    if(logs.get('acc')>0.98):\n",
    "      print(\"\\nReached 98% accuracy so cancelling training!\")\n",
    "      self.model.stop_training = True\n",
    "\n",
    "pickle_in = open(\"drive/My Drive/Xm.pickle\",\"rb\")\n",
    "X = pickle.load(pickle_in)\n",
    "\n",
    "\n",
    "pickle_in = open(\"drive/My Drive/ym.pickle\",\"rb\")\n",
    "y = pickle.load(pickle_in)\n",
    "X = X/255.0\n",
    "X=np.array(X)\n",
    "y=np.array(y)\n",
    "callbacks = myCallback()\n",
    "img_height,img_width=100,100\n",
    "\n",
    "model = Sequential()\n",
    "model.add(Conv2D(64, kernel_size=(3, 3),\n",
    "                 activation='relu',\n",
    "                 input_shape=(100,100,1)))\n",
    "\n",
    "model.add(Conv2D(64, (3, 3), activation='relu'))\n",
    "model.add(MaxPooling2D(pool_size=(2, 2)))\n",
    "model.add(Conv2D(64, (3, 3), activation='relu'))\n",
    "model.add(MaxPooling2D(pool_size=(2, 2)))\n",
    "model.add(Conv2D(32, (3, 3), activation='relu'))\n",
    "model.add(MaxPooling2D(pool_size=(2, 2)))\n",
    "model.add(Conv2D(32, (3, 3), activation='relu'))\n",
    "model.add(MaxPooling2D(pool_size=(2, 2)))\n",
    "model.add(Dropout(0.5))\n",
    "model.add(Flatten())\n",
    "# model.add(Dense(256, activation='relu'))\n",
    "model.add(Dense(128, activation='relu'))\n",
    "#model.add(Dense(128, activation='relu'))\n",
    "model.add(Dense(10, activation='softmax'))\n",
    "\n",
    "\n",
    "adam = Adam(lr=0.0001)\n",
    "model.compile(optimizer= adam, loss='sparse_categorical_crossentropy', metrics=['accuracy'])\n",
    "model.fit(X, y, batch_size=32, epochs=50, validation_split=0.25,callbacks=[callbacks])\n",
    "model.save('drive/My Drive/4layer.model')\n",
    "model.save_weights('drive/My Drive/4layer.h5')\n"
   ]
  },
  {
   "cell_type": "code",
   "execution_count": 4,
   "metadata": {
    "colab": {
     "base_uri": "https://localhost:8080/",
     "height": 255
    },
    "colab_type": "code",
    "id": "x12nz_Qa2NaZ",
    "outputId": "0c90980f-99d8-47dd-e787-bcf705cfcc5d"
   },
   "outputs": [
    {
     "name": "stdout",
     "output_type": "stream",
     "text": [
      "WARNING:tensorflow:From /usr/local/lib/python3.6/dist-packages/keras/backend/tensorflow_backend.py:66: The name tf.get_default_graph is deprecated. Please use tf.compat.v1.get_default_graph instead.\n",
      "\n",
      "WARNING:tensorflow:From /usr/local/lib/python3.6/dist-packages/keras/backend/tensorflow_backend.py:541: The name tf.placeholder is deprecated. Please use tf.compat.v1.placeholder instead.\n",
      "\n",
      "WARNING:tensorflow:From /usr/local/lib/python3.6/dist-packages/keras/backend/tensorflow_backend.py:4432: The name tf.random_uniform is deprecated. Please use tf.random.uniform instead.\n",
      "\n",
      "WARNING:tensorflow:From /usr/local/lib/python3.6/dist-packages/keras/backend/tensorflow_backend.py:4267: The name tf.nn.max_pool is deprecated. Please use tf.nn.max_pool2d instead.\n",
      "\n",
      "WARNING:tensorflow:From /usr/local/lib/python3.6/dist-packages/keras/backend/tensorflow_backend.py:148: The name tf.placeholder_with_default is deprecated. Please use tf.compat.v1.placeholder_with_default instead.\n",
      "\n",
      "WARNING:tensorflow:From /usr/local/lib/python3.6/dist-packages/keras/backend/tensorflow_backend.py:3733: calling dropout (from tensorflow.python.ops.nn_ops) with keep_prob is deprecated and will be removed in a future version.\n",
      "Instructions for updating:\n",
      "Please use `rate` instead of `keep_prob`. Rate should be set to `rate = 1 - keep_prob`.\n"
     ]
    }
   ],
   "source": []
  },
  {
   "cell_type": "code",
   "execution_count": 5,
   "metadata": {
    "colab": {
     "base_uri": "https://localhost:8080/",
     "height": 810
    },
    "colab_type": "code",
    "id": "LGhYBqPG3hyW",
    "outputId": "44f041da-73ba-464f-f281-09c4dfc004ea"
   },
   "outputs": [
    {
     "name": "stdout",
     "output_type": "stream",
     "text": [
      "WARNING:tensorflow:From /usr/local/lib/python3.6/dist-packages/keras/optimizers.py:793: The name tf.train.Optimizer is deprecated. Please use tf.compat.v1.train.Optimizer instead.\n",
      "\n",
      "WARNING:tensorflow:From /usr/local/lib/python3.6/dist-packages/keras/backend/tensorflow_backend.py:3576: The name tf.log is deprecated. Please use tf.math.log instead.\n",
      "\n",
      "WARNING:tensorflow:From /usr/local/lib/python3.6/dist-packages/tensorflow_core/python/ops/math_grad.py:1424: where (from tensorflow.python.ops.array_ops) is deprecated and will be removed in a future version.\n",
      "Instructions for updating:\n",
      "Use tf.where in 2.0, which has the same broadcast rule as np.where\n",
      "WARNING:tensorflow:From /usr/local/lib/python3.6/dist-packages/keras/backend/tensorflow_backend.py:1033: The name tf.assign_add is deprecated. Please use tf.compat.v1.assign_add instead.\n",
      "\n",
      "WARNING:tensorflow:From /usr/local/lib/python3.6/dist-packages/keras/backend/tensorflow_backend.py:1020: The name tf.assign is deprecated. Please use tf.compat.v1.assign instead.\n",
      "\n",
      "WARNING:tensorflow:From /usr/local/lib/python3.6/dist-packages/keras/backend/tensorflow_backend.py:3005: The name tf.Session is deprecated. Please use tf.compat.v1.Session instead.\n",
      "\n",
      "Train on 60000 samples, validate on 10000 samples\n",
      "Epoch 1/10\n",
      "WARNING:tensorflow:From /usr/local/lib/python3.6/dist-packages/keras/backend/tensorflow_backend.py:190: The name tf.get_default_session is deprecated. Please use tf.compat.v1.get_default_session instead.\n",
      "\n",
      "WARNING:tensorflow:From /usr/local/lib/python3.6/dist-packages/keras/backend/tensorflow_backend.py:197: The name tf.ConfigProto is deprecated. Please use tf.compat.v1.ConfigProto instead.\n",
      "\n",
      "WARNING:tensorflow:From /usr/local/lib/python3.6/dist-packages/keras/backend/tensorflow_backend.py:207: The name tf.global_variables is deprecated. Please use tf.compat.v1.global_variables instead.\n",
      "\n",
      "WARNING:tensorflow:From /usr/local/lib/python3.6/dist-packages/keras/backend/tensorflow_backend.py:216: The name tf.is_variable_initialized is deprecated. Please use tf.compat.v1.is_variable_initialized instead.\n",
      "\n",
      "WARNING:tensorflow:From /usr/local/lib/python3.6/dist-packages/keras/backend/tensorflow_backend.py:223: The name tf.variables_initializer is deprecated. Please use tf.compat.v1.variables_initializer instead.\n",
      "\n",
      "60000/60000 [==============================] - 19s 315us/step - loss: 0.7040 - acc: 0.8012 - val_loss: 0.1091 - val_acc: 0.9658\n",
      "Epoch 2/10\n",
      "60000/60000 [==============================] - 5s 75us/step - loss: 0.1833 - acc: 0.9455 - val_loss: 0.0553 - val_acc: 0.9838\n",
      "Epoch 3/10\n",
      "60000/60000 [==============================] - 5s 77us/step - loss: 0.1284 - acc: 0.9627 - val_loss: 0.0687 - val_acc: 0.9793\n",
      "Epoch 4/10\n",
      "60000/60000 [==============================] - 5s 76us/step - loss: 0.1002 - acc: 0.9715 - val_loss: 0.0680 - val_acc: 0.9801\n",
      "Epoch 5/10\n",
      "60000/60000 [==============================] - 5s 75us/step - loss: 0.0864 - acc: 0.9748 - val_loss: 0.0457 - val_acc: 0.9861\n",
      "Epoch 6/10\n",
      "60000/60000 [==============================] - 5s 76us/step - loss: 0.0756 - acc: 0.9785 - val_loss: 0.0347 - val_acc: 0.9904\n",
      "Epoch 7/10\n",
      "60000/60000 [==============================] - 5s 76us/step - loss: 0.0659 - acc: 0.9809 - val_loss: 0.0376 - val_acc: 0.9884\n",
      "Epoch 8/10\n",
      "60000/60000 [==============================] - 5s 76us/step - loss: 0.0576 - acc: 0.9830 - val_loss: 0.0325 - val_acc: 0.9914\n",
      "Epoch 9/10\n",
      "60000/60000 [==============================] - 5s 76us/step - loss: 0.0526 - acc: 0.9853 - val_loss: 0.0308 - val_acc: 0.9912\n",
      "Epoch 10/10\n",
      "60000/60000 [==============================] - 5s 75us/step - loss: 0.0527 - acc: 0.9852 - val_loss: 0.0331 - val_acc: 0.9911\n",
      "Test loss: 0.0331460132524985\n",
      "Test accuracy: 0.9911\n"
     ]
    }
   ],
   "source": []
  },
  {
   "cell_type": "code",
   "execution_count": 0,
   "metadata": {
    "colab": {},
    "colab_type": "code",
    "id": "errRCorS4EEw"
   },
   "outputs": [],
   "source": [
    "model.save('drive/My Drive/mnist.model')"
   ]
  },
  {
   "cell_type": "code",
   "execution_count": 0,
   "metadata": {
    "colab": {},
    "colab_type": "code",
    "id": "7Jo3zhqK5jms"
   },
   "outputs": [],
   "source": []
  }
 ],
 "metadata": {
  "accelerator": "GPU",
  "colab": {
   "name": "4layeralpha.ipynb",
   "provenance": []
  },
  "kernelspec": {
   "display_name": "Python 3",
   "language": "python",
   "name": "python3"
  },
  "language_info": {
   "codemirror_mode": {
    "name": "ipython",
    "version": 3
   },
   "file_extension": ".py",
   "mimetype": "text/x-python",
   "name": "python",
   "nbconvert_exporter": "python",
   "pygments_lexer": "ipython3",
   "version": "3.6.7"
  }
 },
 "nbformat": 4,
 "nbformat_minor": 1
}
