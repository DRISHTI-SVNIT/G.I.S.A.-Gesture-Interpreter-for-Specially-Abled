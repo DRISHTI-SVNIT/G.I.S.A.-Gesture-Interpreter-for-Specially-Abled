{
 "cells": [
  {
   "cell_type": "code",
   "execution_count": 30,
   "metadata": {},
   "outputs": [],
   "source": [
    "import cv2\n",
    "import numpy as np\n",
    "import tensorflow as tf\n",
    "from tensorflow.keras.datasets import cifar10\n",
    "from tensorflow.keras.preprocessing.image import ImageDataGenerator\n",
    "from tensorflow.keras.models import Sequential\n",
    "import tensorflow.keras as keras\n",
    "from tensorflow.keras import optimizers\n",
    "from tensorflow.keras.layers import Dense, Dropout, Activation, Flatten\n",
    "from tensorflow.keras.layers import Conv2D, MaxPooling2D\n",
    "from keras.layers.normalization import BatchNormalization\n",
    "from tensorflow import keras\n",
    "from tensorflow.keras.applications.mobilenet import preprocess_input\n",
    "\n",
    "\n",
    "import pickle\n",
    "import numpy as np"
   ]
  },
  {
   "cell_type": "code",
   "execution_count": 31,
   "metadata": {},
   "outputs": [
    {
     "data": {
      "text/plain": [
       "'1.15.0'"
      ]
     },
     "execution_count": 31,
     "metadata": {},
     "output_type": "execute_result"
    }
   ],
   "source": [
    "tf.__version__"
   ]
  },
  {
   "cell_type": "code",
   "execution_count": 32,
   "metadata": {},
   "outputs": [
    {
     "name": "stdout",
     "output_type": "stream",
     "text": [
      "Model: \"sequential_7\"\n",
      "_________________________________________________________________\n",
      "Layer (type)                 Output Shape              Param #   \n",
      "=================================================================\n",
      "conv2d_27 (Conv2D)           (None, 98, 98, 32)        896       \n",
      "_________________________________________________________________\n",
      "batch_normalization_35 (Batc (None, 98, 98, 32)        128       \n",
      "_________________________________________________________________\n",
      "max_pooling2d_25 (MaxPooling (None, 49, 49, 32)        0         \n",
      "_________________________________________________________________\n",
      "conv2d_28 (Conv2D)           (None, 47, 47, 64)        18496     \n",
      "_________________________________________________________________\n",
      "batch_normalization_36 (Batc (None, 47, 47, 64)        256       \n",
      "_________________________________________________________________\n",
      "max_pooling2d_26 (MaxPooling (None, 23, 23, 64)        0         \n",
      "_________________________________________________________________\n",
      "conv2d_29 (Conv2D)           (None, 21, 21, 128)       73856     \n",
      "_________________________________________________________________\n",
      "batch_normalization_37 (Batc (None, 21, 21, 128)       512       \n",
      "_________________________________________________________________\n",
      "max_pooling2d_27 (MaxPooling (None, 10, 10, 128)       0         \n",
      "_________________________________________________________________\n",
      "conv2d_30 (Conv2D)           (None, 8, 8, 128)         147584    \n",
      "_________________________________________________________________\n",
      "batch_normalization_38 (Batc (None, 8, 8, 128)         512       \n",
      "_________________________________________________________________\n",
      "max_pooling2d_28 (MaxPooling (None, 4, 4, 128)         0         \n",
      "_________________________________________________________________\n",
      "conv2d_31 (Conv2D)           (None, 2, 2, 256)         295168    \n",
      "_________________________________________________________________\n",
      "batch_normalization_39 (Batc (None, 2, 2, 256)         1024      \n",
      "_________________________________________________________________\n",
      "max_pooling2d_29 (MaxPooling (None, 1, 1, 256)         0         \n",
      "_________________________________________________________________\n",
      "flatten_5 (Flatten)          (None, 256)               0         \n",
      "_________________________________________________________________\n",
      "dense_15 (Dense)             (None, 128)               32896     \n",
      "_________________________________________________________________\n",
      "batch_normalization_40 (Batc (None, 128)               512       \n",
      "_________________________________________________________________\n",
      "dense_16 (Dense)             (None, 64)                8256      \n",
      "_________________________________________________________________\n",
      "batch_normalization_41 (Batc (None, 64)                256       \n",
      "_________________________________________________________________\n",
      "dropout (Dropout)            (None, 64)                0         \n",
      "_________________________________________________________________\n",
      "dense_17 (Dense)             (None, 16)                1040      \n",
      "=================================================================\n",
      "Total params: 581,392\n",
      "Trainable params: 579,792\n",
      "Non-trainable params: 1,600\n",
      "_________________________________________________________________\n"
     ]
    }
   ],
   "source": [
    "model = tf.keras.models.Sequential([\n",
    "   tf.keras.layers.Conv2D(input_shape=(100,100,3),filters = 32,kernel_size=(3,3),strides = (1,1),data_format='channels_last',activation = 'relu'),\n",
    "   tf.keras.layers.BatchNormalization(),\n",
    "   tf.keras.layers.MaxPool2D(),\n",
    "  \n",
    "   tf.keras.layers.Conv2D(filters = 64,kernel_size=(3,3),data_format = 'channels_last',activation='relu'),\n",
    "   tf.keras.layers.BatchNormalization(),\n",
    "   tf.keras.layers.MaxPool2D(),\n",
    "   \n",
    "   tf.keras.layers.Conv2D(filters = 128,kernel_size=(3,3),strides = (1,1),data_format='channels_last',activation = 'relu'),\n",
    "   tf.keras.layers.BatchNormalization(), \n",
    "   tf.keras.layers.MaxPool2D(),\n",
    "   \n",
    "   tf.keras.layers.Conv2D(filters = 128,kernel_size=(3,3),data_format = 'channels_last',activation = 'relu'),\n",
    "   tf.keras.layers.BatchNormalization(),\n",
    "   tf.keras.layers.MaxPool2D(),\n",
    "  \n",
    "   tf.keras.layers.Conv2D(filters = 256,kernel_size=(3,3),data_format = 'channels_last',activation = 'relu'),\n",
    "   tf.keras.layers.BatchNormalization(),\n",
    "   tf.keras.layers.MaxPool2D(),\n",
    "   \n",
    "   tf.keras.layers.Flatten(data_format = 'channels_last'),\n",
    "    \n",
    "   tf.keras.layers.Dense(128,activation = 'relu',kernel_regularizer = tf.keras.regularizers.l2(l = 0.09)),\n",
    "   tf.keras.layers.BatchNormalization(),\n",
    "    \n",
    "   tf.keras.layers.Dense(64,activation = 'relu',kernel_regularizer = tf.keras.regularizers.l2(l = 0.09)),\n",
    "   tf.keras.layers.BatchNormalization(),\n",
    "    tf.keras.layers.Dropout(0.5),\n",
    "    \n",
    "   tf.keras.layers.Dense(16,activation='softmax')\n",
    "])\n",
    "\n",
    "\n",
    "model.summary()\n"
   ]
  },
  {
   "cell_type": "code",
   "execution_count": 33,
   "metadata": {},
   "outputs": [],
   "source": [
    "train_path = \"D:/GISA/Handwritten using motion tracking/dataset_16alpha/\""
   ]
  },
  {
   "cell_type": "code",
   "execution_count": 34,
   "metadata": {},
   "outputs": [
    {
     "name": "stdout",
     "output_type": "stream",
     "text": [
      "Found 1330 images belonging to 16 classes.\n",
      "Found 438 images belonging to 16 classes.\n"
     ]
    }
   ],
   "source": [
    "train_datagen = tf.keras.preprocessing.image.ImageDataGenerator(preprocessing_function=preprocess_input,\n",
    "                                                                       rescale=1./255,\n",
    "                                                                       validation_split = 0.25)\n",
    "\n",
    "train_generator=train_datagen.flow_from_directory(train_path,\n",
    "                                                 target_size=(100,100),\n",
    "                                                 color_mode='rgb',\n",
    "                                                 batch_size=32,\n",
    "                                                 class_mode='categorical',\n",
    "                                                 subset = 'training',\n",
    "                                                 shuffle=True)\n",
    "\n",
    "validation_generator = train_datagen.flow_from_directory(train_path,\n",
    "                                                 target_size=(100,100),\n",
    "                                                 color_mode='rgb',\n",
    "                                                 batch_size=32,\n",
    "                                                 class_mode='categorical',\n",
    "                                                 subset = 'validation',\n",
    "                                                 shuffle=True)"
   ]
  },
  {
   "cell_type": "code",
   "execution_count": 35,
   "metadata": {},
   "outputs": [
    {
     "name": "stdout",
     "output_type": "stream",
     "text": [
      "41\n",
      "Epoch 1/10\n",
      "40/41 [============================>.] - ETA: 1s - loss: 22.4323 - acc: 0.2504Epoch 1/10\n",
      "41/41 [==============================] - 54s 1s/step - loss: 22.3261 - acc: 0.2542 - val_loss: 19.0236 - val_acc: 0.0553\n",
      "Epoch 2/10\n",
      "40/41 [============================>.] - ETA: 1s - loss: 14.7570 - acc: 0.5853Epoch 1/10\n",
      "41/41 [==============================] - 51s 1s/step - loss: 14.6840 - acc: 0.5871 - val_loss: 13.8193 - val_acc: 0.0553\n",
      "Epoch 3/10\n",
      "40/41 [============================>.] - ETA: 1s - loss: 9.6257 - acc: 0.7409Epoch 1/10\n",
      "41/41 [==============================] - 50s 1s/step - loss: 9.5760 - acc: 0.7427 - val_loss: 9.8953 - val_acc: 0.0553\n",
      "Epoch 4/10\n",
      "40/41 [============================>.] - ETA: 1s - loss: 6.2419 - acc: 0.8412Epoch 1/10\n",
      "41/41 [==============================] - 50s 1s/step - loss: 6.2158 - acc: 0.8413 - val_loss: 7.6090 - val_acc: 0.0553\n",
      "Epoch 5/10\n",
      "40/41 [============================>.] - ETA: 1s - loss: 4.0811 - acc: 0.8930Epoch 1/10\n",
      "41/41 [==============================] - 51s 1s/step - loss: 4.0639 - acc: 0.8941 - val_loss: 5.8953 - val_acc: 0.0601\n",
      "Epoch 6/10\n",
      "40/41 [============================>.] - ETA: 1s - loss: 2.6784 - acc: 0.9225Epoch 1/10\n",
      "41/41 [==============================] - 50s 1s/step - loss: 2.6681 - acc: 0.9213 - val_loss: 4.8634 - val_acc: 0.0601\n",
      "Epoch 7/10\n",
      "40/41 [============================>.] - ETA: 1s - loss: 1.8136 - acc: 0.9508Epoch 1/10\n",
      "41/41 [==============================] - 51s 1s/step - loss: 1.8079 - acc: 0.9497 - val_loss: 4.5285 - val_acc: 0.0601\n",
      "Epoch 8/10\n",
      "40/41 [============================>.] - ETA: 1s - loss: 1.3059 - acc: 0.9417Epoch 1/10\n",
      "41/41 [==============================] - 52s 1s/step - loss: 1.2996 - acc: 0.9424 - val_loss: 4.1236 - val_acc: 0.0553\n",
      "Epoch 9/10\n",
      "40/41 [============================>.] - ETA: 1s - loss: 0.9843 - acc: 0.9534Epoch 1/10\n",
      "41/41 [==============================] - 50s 1s/step - loss: 0.9797 - acc: 0.9538 - val_loss: 4.1877 - val_acc: 0.0553\n",
      "Epoch 10/10\n",
      "40/41 [============================>.] - ETA: 1s - loss: 0.7332 - acc: 0.9652Epoch 1/10\n",
      "41/41 [==============================] - 49s 1s/step - loss: 0.7388 - acc: 0.9630 - val_loss: 4.3274 - val_acc: 0.0553\n"
     ]
    }
   ],
   "source": [
    "adam = optimizers.Adam(learning_rate=0.001)\n",
    "\n",
    "model.compile(optimizer=adam,loss='categorical_crossentropy',metrics=['accuracy'])\n",
    "\n",
    "step_size_train=train_generator.n//train_generator.batch_size\n",
    "step_size_validation=validation_generator.n//validation_generator.batch_size\n",
    "print(step_size_train)\n",
    "model.fit_generator(generator=train_generator,\n",
    "                    validation_data=validation_generator,\n",
    "                   steps_per_epoch=step_size_train,\n",
    "                    validation_steps=step_size_validation,\n",
    "                   epochs=10)\n",
    "\n",
    "model.save('CNNHANDWRITTEN_2.model')\n",
    "model.save_weights('CNNHANDWRITTEN_2.h5')"
   ]
  },
  {
   "cell_type": "code",
   "execution_count": null,
   "metadata": {},
   "outputs": [],
   "source": []
  }
 ],
 "metadata": {
  "kernelspec": {
   "display_name": "Python 3",
   "language": "python",
   "name": "python3"
  },
  "language_info": {
   "codemirror_mode": {
    "name": "ipython",
    "version": 3
   },
   "file_extension": ".py",
   "mimetype": "text/x-python",
   "name": "python",
   "nbconvert_exporter": "python",
   "pygments_lexer": "ipython3",
   "version": "3.7.3"
  }
 },
 "nbformat": 4,
 "nbformat_minor": 2
}
