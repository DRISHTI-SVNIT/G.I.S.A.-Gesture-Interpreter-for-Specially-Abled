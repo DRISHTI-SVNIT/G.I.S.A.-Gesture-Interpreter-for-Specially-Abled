{
 "cells": [
  {
   "cell_type": "code",
   "execution_count": 20,
   "metadata": {},
   "outputs": [],
   "source": [
    "from tensorflow.keras.models import Sequential\n",
    "from tensorflow.keras import models, layers\n",
    "import tensorflow.keras as keras\n",
    "import pickle\n",
    "import cv2\n",
    "import numpy as np"
   ]
  },
  {
   "cell_type": "code",
   "execution_count": 21,
   "metadata": {
    "scrolled": true
   },
   "outputs": [
    {
     "name": "stdout",
     "output_type": "stream",
     "text": [
      "Train on 9220 samples, validate on 3074 samples\n",
      "Epoch 1/25\n",
      "9220/9220 [==============================] - 79s 9ms/sample - loss: 1.2850 - accuracy: 0.5626 - val_loss: 0.8550 - val_accuracy: 0.7180\n",
      "Epoch 2/25\n",
      "9220/9220 [==============================] - 33s 4ms/sample - loss: 0.6266 - accuracy: 0.7987 - val_loss: 0.4886 - val_accuracy: 0.8416\n",
      "Epoch 3/25\n",
      "9220/9220 [==============================] - 32s 3ms/sample - loss: 0.3653 - accuracy: 0.8844 - val_loss: 0.4678 - val_accuracy: 0.8419\n",
      "Epoch 4/25\n",
      "9220/9220 [==============================] - 32s 3ms/sample - loss: 0.2407 - accuracy: 0.9260 - val_loss: 0.3343 - val_accuracy: 0.8939\n",
      "Epoch 5/25\n",
      "9220/9220 [==============================] - 33s 4ms/sample - loss: 0.1632 - accuracy: 0.9463 - val_loss: 0.3346 - val_accuracy: 0.9001\n",
      "Epoch 6/25\n",
      "9220/9220 [==============================] - 33s 4ms/sample - loss: 0.1228 - accuracy: 0.9604 - val_loss: 0.4075 - val_accuracy: 0.8796\n",
      "Epoch 7/25\n",
      "9220/9220 [==============================] - 32s 3ms/sample - loss: 0.0864 - accuracy: 0.9721 - val_loss: 0.3254 - val_accuracy: 0.9118\n",
      "Epoch 8/25\n",
      "9220/9220 [==============================] - 36s 4ms/sample - loss: 0.0646 - accuracy: 0.9798 - val_loss: 0.3621 - val_accuracy: 0.9060\n",
      "Epoch 9/25\n",
      "9220/9220 [==============================] - 33s 4ms/sample - loss: 0.0491 - accuracy: 0.9847 - val_loss: 0.3439 - val_accuracy: 0.9141\n",
      "Epoch 10/25\n",
      "9220/9220 [==============================] - 33s 4ms/sample - loss: 0.0439 - accuracy: 0.9854 - val_loss: 0.3523 - val_accuracy: 0.9183\n",
      "Epoch 11/25\n",
      "9220/9220 [==============================] - 34s 4ms/sample - loss: 0.0364 - accuracy: 0.9863 - val_loss: 0.4039 - val_accuracy: 0.9157\n",
      "Epoch 12/25\n",
      "9220/9220 [==============================] - 34s 4ms/sample - loss: 0.0387 - accuracy: 0.9864 - val_loss: 0.3768 - val_accuracy: 0.9200\n",
      "Epoch 13/25\n",
      "9220/9220 [==============================] - 32s 3ms/sample - loss: 0.0281 - accuracy: 0.9914 - val_loss: 0.4435 - val_accuracy: 0.9105\n",
      "Epoch 14/25\n",
      "9220/9220 [==============================] - 34s 4ms/sample - loss: 0.0298 - accuracy: 0.9907 - val_loss: 0.4119 - val_accuracy: 0.9161\n",
      "Epoch 15/25\n",
      "9220/9220 [==============================] - 34s 4ms/sample - loss: 0.0277 - accuracy: 0.9901 - val_loss: 0.4289 - val_accuracy: 0.9167\n",
      "Epoch 16/25\n",
      "9220/9220 [==============================] - 33s 4ms/sample - loss: 0.0087 - accuracy: 0.9977 - val_loss: 0.4741 - val_accuracy: 0.9141\n",
      "Epoch 17/25\n",
      "9220/9220 [==============================] - 35s 4ms/sample - loss: 0.0051 - accuracy: 0.9988 - val_loss: 0.4489 - val_accuracy: 0.9187\n",
      "Epoch 18/25\n",
      "9220/9220 [==============================] - 33s 4ms/sample - loss: 0.0147 - accuracy: 0.9950 - val_loss: 0.4422 - val_accuracy: 0.9262\n",
      "Epoch 19/25\n",
      "9220/9220 [==============================] - 33s 4ms/sample - loss: 0.0420 - accuracy: 0.9861 - val_loss: 0.4353 - val_accuracy: 0.9193\n",
      "Epoch 20/25\n",
      "9220/9220 [==============================] - 32s 4ms/sample - loss: 0.0320 - accuracy: 0.9888 - val_loss: 0.3942 - val_accuracy: 0.9200\n",
      "Epoch 21/25\n",
      "9220/9220 [==============================] - 32s 4ms/sample - loss: 0.0196 - accuracy: 0.9930 - val_loss: 0.4749 - val_accuracy: 0.9291\n",
      "Epoch 22/25\n",
      "9220/9220 [==============================] - 33s 4ms/sample - loss: 0.0316 - accuracy: 0.9893 - val_loss: 0.4672 - val_accuracy: 0.9190\n",
      "Epoch 23/25\n",
      "9220/9220 [==============================] - 35s 4ms/sample - loss: 0.0137 - accuracy: 0.9954 - val_loss: 0.4281 - val_accuracy: 0.9291\n",
      "Epoch 24/25\n",
      "9220/9220 [==============================] - 34s 4ms/sample - loss: 0.0035 - accuracy: 0.9990 - val_loss: 0.4719 - val_accuracy: 0.9304\n",
      "Epoch 25/25\n",
      "9220/9220 [==============================] - 36s 4ms/sample - loss: 0.0042 - accuracy: 0.9992 - val_loss: 0.5133 - val_accuracy: 0.9278\n",
      "WARNING:tensorflow:From /home/manavkhorasiya/anaconda3/lib/python3.7/site-packages/tensorflow_core/python/ops/resource_variable_ops.py:1781: calling BaseResourceVariable.__init__ (from tensorflow.python.ops.resource_variable_ops) with constraint is deprecated and will be removed in a future version.\n",
      "Instructions for updating:\n",
      "If using Keras pass *_constraint arguments to layers.\n",
      "INFO:tensorflow:Assets written to: lenet5.model/assets\n"
     ]
    }
   ],
   "source": [
    "pickle_in = open(\"X_DT.pickle\",\"rb\")\n",
    "X = pickle.load(pickle_in)\n",
    "\n",
    "\n",
    "pickle_in = open(\"y_DT.pickle\",\"rb\")\n",
    "y = pickle.load(pickle_in)\n",
    "\n",
    "X = X/255.0\n",
    "\n",
    "#Instantiate an empty model\n",
    "model = Sequential()\n",
    "\n",
    "model.add(Conv2D(filters=6, kernel_size=(5, 5), activation='relu', input_shape=(100,100,1)))\n",
    "model.add(AveragePooling2D(pool_size=(2, 2)))\n",
    "\n",
    "model.add(Conv2D(filters=16, kernel_size=(5, 5), activation='relu'))\n",
    "model.add(AveragePooling2D(pool_size=(2, 2)))\n",
    "\n",
    "\n",
    "model.add(Flatten())\n",
    "\n",
    "model.add(Dense(units=120, activation='relu'))\n",
    "\n",
    "model.add(Dense(units=84, activation='relu'))\n",
    "\n",
    "model.add(Dense(units=10, activation = 'softmax'))\n",
    "\n",
    "model.compile(loss='sparse_categorical_crossentropy',\n",
    "              optimizer='adam',\n",
    "              metrics=['accuracy'])\n",
    "\n",
    "model.fit(X, y, batch_size=32, epochs=25, validation_split=0.25)\n",
    "\n",
    "model.save('lenet5.model')\n",
    "model.save_weights('lenet5.h5')"
   ]
  },
  {
   "cell_type": "code",
   "execution_count": null,
   "metadata": {},
   "outputs": [],
   "source": []
  }
 ],
 "metadata": {
  "kernelspec": {
   "display_name": "Python 3",
   "language": "python",
   "name": "python3"
  },
  "language_info": {
   "codemirror_mode": {
    "name": "ipython",
    "version": 3
   },
   "file_extension": ".py",
   "mimetype": "text/x-python",
   "name": "python",
   "nbconvert_exporter": "python",
   "pygments_lexer": "ipython3",
   "version": "3.7.4"
  }
 },
 "nbformat": 4,
 "nbformat_minor": 2
}
