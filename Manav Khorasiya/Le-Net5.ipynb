{
 "cells": [
  {
   "cell_type": "code",
   "execution_count": 19,
   "metadata": {},
   "outputs": [],
   "source": [
    "from tensorflow.keras.models import Sequential\n",
    "from tensorflow.keras import models, layers\n",
    "import tensorflow.keras as keras\n",
    "from tensorflow.keras.layers import Conv2D,Flatten,Dense,Dropout\n",
    "import pickle\n",
    "import cv2\n",
    "import numpy as np"
   ]
  },
  {
   "cell_type": "code",
   "execution_count": 21,
   "metadata": {
    "scrolled": true
   },
   "outputs": [
    {
     "name": "stdout",
     "output_type": "stream",
     "text": [
      "Train on 9220 samples, validate on 3074 samples\n",
      "Epoch 1/10\n",
      "9220/9220 [==============================] - 54s 6ms/sample - loss: 1.2472 - acc: 0.5695 - val_loss: 0.7637 - val_acc: 0.7531\n",
      "Epoch 2/10\n",
      "9220/9220 [==============================] - 54s 6ms/sample - loss: 0.5901 - acc: 0.8113 - val_loss: 0.4458 - val_acc: 0.8582\n",
      "Epoch 3/10\n",
      "9220/9220 [==============================] - 54s 6ms/sample - loss: 0.3398 - acc: 0.8900 - val_loss: 0.3335 - val_acc: 0.8946\n",
      "Epoch 4/10\n",
      "9220/9220 [==============================] - 54s 6ms/sample - loss: 0.2461 - acc: 0.9178 - val_loss: 0.3266 - val_acc: 0.9021\n",
      "Epoch 5/10\n",
      "9220/9220 [==============================] - 54s 6ms/sample - loss: 0.1685 - acc: 0.9477 - val_loss: 0.2783 - val_acc: 0.9190\n",
      "Epoch 6/10\n",
      "9220/9220 [==============================] - 54s 6ms/sample - loss: 0.1205 - acc: 0.9606 - val_loss: 0.3281 - val_acc: 0.9057\n",
      "Epoch 7/10\n",
      "9220/9220 [==============================] - 54s 6ms/sample - loss: 0.1028 - acc: 0.9663 - val_loss: 0.2725 - val_acc: 0.9284\n",
      "Epoch 8/10\n",
      "9220/9220 [==============================] - 52s 6ms/sample - loss: 0.0817 - acc: 0.9725 - val_loss: 0.3210 - val_acc: 0.9099\n",
      "Epoch 9/10\n",
      "9220/9220 [==============================] - 54s 6ms/sample - loss: 0.0705 - acc: 0.9772 - val_loss: 0.3016 - val_acc: 0.9245\n",
      "Epoch 10/10\n",
      "9220/9220 [==============================] - 53s 6ms/sample - loss: 0.0568 - acc: 0.9822 - val_loss: 0.3418 - val_acc: 0.9213\n"
     ]
    }
   ],
   "source": [
    "pickle_in = open(\"X_DT.pickle\",\"rb\")\n",
    "X = pickle.load(pickle_in)\n",
    "\n",
    "\n",
    "pickle_in = open(\"y_DT.pickle\",\"rb\")\n",
    "y = pickle.load(pickle_in)\n",
    "\n",
    "X = X/255.0\n",
    "\n",
    "#Instantiate an empty model\n",
    "model = Sequential()\n",
    "\n",
    "model.add(Conv2D(filters=6, kernel_size=(5, 5), activation='relu', input_shape=(100,100,1)))\n",
    "model.add(AveragePooling2D(pool_size=(2, 2)))\n",
    "\n",
    "model.add(Conv2D(filters=16, kernel_size=(5, 5), activation='relu'))\n",
    "model.add(AveragePooling2D(pool_size=(2, 2)))\n",
    "\n",
    "model.add(Dropout(0.25))\n",
    "model.add(Flatten())\n",
    "\n",
    "model.add(Dense(units=120, activation='relu'))\n",
    "\n",
    "model.add(Dense(units=84, activation='relu'))\n",
    "\n",
    "model.add(Dense(units=10, activation = 'softmax'))\n",
    "\n",
    "model.compile(loss='sparse_categorical_crossentropy',\n",
    "              optimizer='adam',\n",
    "              metrics=['accuracy'])\n",
    "\n",
    "model.fit(X, y, batch_size=32, epochs=10, validation_split=0.25)\n",
    "\n",
    "model.save('lenet5.model')\n",
    "model.save_weights('lenet5.h5')"
   ]
  },
  {
   "cell_type": "code",
   "execution_count": null,
   "metadata": {},
   "outputs": [],
   "source": []
  }
 ],
 "metadata": {
  "kernelspec": {
   "display_name": "Python 3",
   "language": "python",
   "name": "python3"
  },
  "language_info": {
   "codemirror_mode": {
    "name": "ipython",
    "version": 3
   },
   "file_extension": ".py",
   "mimetype": "text/x-python",
   "name": "python",
   "nbconvert_exporter": "python",
   "pygments_lexer": "ipython3",
   "version": "3.7.3"
  }
 },
 "nbformat": 4,
 "nbformat_minor": 2
}
