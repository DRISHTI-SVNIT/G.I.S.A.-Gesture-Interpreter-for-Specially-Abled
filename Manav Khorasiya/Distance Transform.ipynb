{
 "cells": [
  {
   "cell_type": "code",
   "execution_count": 8,
   "metadata": {},
   "outputs": [],
   "source": [
    "import cv2\n",
    "import numpy as np"
   ]
  },
  {
   "cell_type": "code",
   "execution_count": 9,
   "metadata": {},
   "outputs": [],
   "source": [
    "def whitebg_skin(image):    \n",
    "    hsv=cv2.cvtColor(image,cv2.COLOR_BGR2HSV)\n",
    "    ycbcr=cv2.cvtColor(image, cv2.COLOR_BGR2YCrCb)\n",
    "    b,g,r=cv2.split(image)\n",
    "    y,cr,cb=cv2.split(ycbcr)\n",
    "    h,s,v=cv2.split(hsv)\n",
    "    s=s/(h+s+v)\n",
    "    ans=((0<=h)*(h<=50)*(0.23<s)*(s<0.68)*(r>95)*(g>40)*(b>20)*(r>g)*(r>b)*(abs(r-g)>15))+((r>95)*(g>40)*(b>20)*(r>g)*(r>b)*(abs(r-g)>15)*(cr>135)*(cb>85)*(y>80)*(cr<=(1.5862*cb+20))*(cr>=(0.3448*cb+76.2069))*(cr>=(-4.5652*cb+234.5652))*(cr<=-1.15*cb+301.75)*(cr<=-2.2857*cb+432.85))\n",
    "    b=b*ans\n",
    "    g=g*ans\n",
    "    r=r*ans\n",
    "    new=cv2.merge((b,g,r))\n",
    "    ans=ans*255\n",
    "    new1=cv2.merge((ans,ans,ans))\n",
    "    cv2.imwrite(\"Test images/test.jpeg\",new1)\n",
    "    new1=cv2.imread(\"Test images/test.jpeg\")\n",
    "    new1=255-new1\n",
    "    new=new+new1\n",
    "    return new"
   ]
  },
  {
   "cell_type": "code",
   "execution_count": 16,
   "metadata": {},
   "outputs": [
    {
     "name": "stdout",
     "output_type": "stream",
     "text": [
      "[[0. 0. 0. ... 0. 0. 0.]\n",
      " [0. 0. 0. ... 0. 0. 0.]\n",
      " [0. 0. 0. ... 0. 0. 0.]\n",
      " ...\n",
      " [0. 0. 0. ... 0. 0. 0.]\n",
      " [0. 0. 0. ... 0. 0. 0.]\n",
      " [0. 0. 0. ... 0. 0. 0.]]\n"
     ]
    }
   ],
   "source": [
    "image = cv2.imread(\"Test images/hand2.jpg\")\n",
    "cv2.imshow('original',image)\n",
    "cv2.waitKey(0)\n",
    "# new1 = whitebg_skin(image)\n",
    "# cv2.imshow(\"white background\",new1)\n",
    "# cv2.waitKey(0)\n",
    "new1 = image\n",
    "new1 = cv2.cvtColor(new1, cv2.COLOR_BGR2GRAY)\n",
    "cv2.imshow(\"new1\",new1)\n",
    "cv2.waitKey(0)\n",
    "dist = cv2.distanceTransform(new1, cv2.DIST_L2, 5)\n",
    "\n",
    "cv2.normalize(dist, dist, 0, 1.0, cv2.NORM_MINMAX)\n",
    "cv2.imshow('Distance Transform Image', dist)\n",
    "cv2.waitKey(0)\n",
    "cv2.destroyAllWindows()\n",
    "print(dist)\n",
    "c=np.max(dist)\n",
    "result = np.where(dist == c) "
   ]
  },
  {
   "cell_type": "code",
   "execution_count": 11,
   "metadata": {},
   "outputs": [],
   "source": [
    "M=cv2.moments(dist)\n",
    "try:\n",
    "    \n",
    "# calculate x,y coordinate of center\n",
    "    cX = int(M[\"m10\"] / M[\"m00\"])\n",
    "    cY = int(M[\"m01\"] / M[\"m00\"])\n",
    " \n",
    "    # put text and highlight the center\n",
    "    cv2.circle(dist, (cX, cY), 5, (255, 255, 255), -1)\n",
    "    cv2.putText(dist, \"centroid\", (cX - 25, cY - 25),cv2.FONT_HERSHEY_SIMPLEX, 0.5, (255, 255, 255), 2)\n",
    "    cv2.imshow(\"center\",dist)\n",
    "    cv2.waitKey(0)\n",
    "except:\n",
    "    print(\"error again\")\n",
    "cv2.destroyAllWindows()"
   ]
  },
  {
   "cell_type": "code",
   "execution_count": 12,
   "metadata": {},
   "outputs": [],
   "source": [
    "#MAIN FUNCTION\n",
    "def skin_center(image,image1):  \n",
    "    rw=300\n",
    "    rh=300\n",
    "    cx=100\n",
    "    cy=100\n",
    "    hsv=cv2.cvtColor(image,cv2.COLOR_BGR2HSV)\n",
    "    ycbcr=cv2.cvtColor(image, cv2.COLOR_BGR2YCrCb)\n",
    "    b,g,r=cv2.split(image)\n",
    "    y,cr,cb=cv2.split(ycbcr)\n",
    "    h,s,v=cv2.split(hsv)\n",
    "    s=s/(h+s+v)\n",
    "    ans=((0<=h)*(h<=50)*(0.23<s)*(s<0.68)*(r>95)*(g>40)*(b>20)*(r>g)*(r>b)*(abs(r-g)>15))+((r>95)*(g>40)*(b>20)*(r>g)*(r>b)*(abs(r-g)>15)*(cr>135)*(cb>85)*(y>80)*(cr<=(1.5862*cb+20))*(cr>=(0.3448*cb+76.2069))*(cr>=(-4.5652*cb+234.5652))*(cr<=-1.15*cb+301.75)*(cr<=-2.2857*cb+432.85))\n",
    "    b=b*ans\n",
    "    g=g*ans\n",
    "    r=r*ans\n",
    "    new=cv2.merge((b,g,r))\n",
    "    ans=ans*255\n",
    "    new1=cv2.merge((ans,ans,ans))\n",
    "    cv2.imwrite(\"Test images/test.jpeg\",new1)\n",
    "    new1=cv2.imread(\"Test images/test.jpeg\")\n",
    "    cv2.imshow('new1', new1)\n",
    "    cv2.waitKey(0)\n",
    "    new1 = cv2.cvtColor(new1, cv2.COLOR_BGR2GRAY)\n",
    "    dist = cv2.distanceTransform(new1, cv2.DIST_L2, 5)\n",
    "    cv2.imshow('Distance transform', dist)\n",
    "    cv2.waitKey(0)\n",
    "    cv2.normalize(dist, dist, 0, 1.0, cv2.NORM_MINMAX)\n",
    "    M=cv2.moments(dist)\n",
    "    # calculate x,y coordinate of center\n",
    "    try:\n",
    "        cX = (int(M[\"m10\"] / M[\"m00\"]))\n",
    "        cY = (int(M[\"m01\"] / M[\"m00\"]))\n",
    "        # put text and highlight the center\n",
    "        cv2.circle(image1, (cX, cY), 5, (0,0, 255), -1)\n",
    "        cv2.putText(dist, \"centroid\", (cX - 25, cY - 25),cv2.FONT_HERSHEY_SIMPLEX, 0.5, (255, 255, 255), 2)\n",
    "        cv2.rectangle(image1,(cx,cy),(cx+rw,cy+rh),(0,255,0),5)\n",
    "    except:\n",
    "        print(\"error\")\n",
    "    return image1,dist"
   ]
  },
  {
   "cell_type": "code",
   "execution_count": 15,
   "metadata": {},
   "outputs": [
    {
     "name": "stderr",
     "output_type": "stream",
     "text": [
      "/home/manavkhorasiya/anaconda3/lib/python3.7/site-packages/ipykernel_launcher.py:11: RuntimeWarning: divide by zero encountered in true_divide\n",
      "  # This is added back by InteractiveShellApp.init_path()\n",
      "/home/manavkhorasiya/anaconda3/lib/python3.7/site-packages/ipykernel_launcher.py:11: RuntimeWarning: invalid value encountered in true_divide\n",
      "  # This is added back by InteractiveShellApp.init_path()\n",
      "/home/manavkhorasiya/anaconda3/lib/python3.7/site-packages/ipykernel_launcher.py:12: RuntimeWarning: invalid value encountered in greater\n",
      "  if sys.path[0] == '':\n",
      "/home/manavkhorasiya/anaconda3/lib/python3.7/site-packages/ipykernel_launcher.py:12: RuntimeWarning: invalid value encountered in less\n",
      "  if sys.path[0] == '':\n"
     ]
    }
   ],
   "source": [
    "cx=100\n",
    "cy=100\n",
    "rw=300\n",
    "rh=300\n",
    "# cap=cv2.VideoCapture(0)\n",
    "# while True:\n",
    "#     ret, image=cap.read()\n",
    "#     pre=image[cx:rw,cy:rh]\n",
    "image = cv2.imread(\"Test images/hand2.jpg\")\n",
    "new,dist=skin_center(image,image)\n",
    "cv2.imshow('new',new)\n",
    "cv2.waitKey(0)\n",
    "cv2.imshow(\"dist\",dist)\n",
    "#keypress = cv2.waitKey(1) & 0xFF\n",
    "#if keypress == ord('q'):\n",
    "#    break\n",
    "#cap.release()\n",
    "cv2.waitKey(0)\n",
    "cv2.destroyAllWindows()\n"
   ]
  },
  {
   "cell_type": "code",
   "execution_count": null,
   "metadata": {},
   "outputs": [],
   "source": []
  }
 ],
 "metadata": {
  "kernelspec": {
   "display_name": "Python 3",
   "language": "python",
   "name": "python3"
  },
  "language_info": {
   "codemirror_mode": {
    "name": "ipython",
    "version": 3
   },
   "file_extension": ".py",
   "mimetype": "text/x-python",
   "name": "python",
   "nbconvert_exporter": "python",
   "pygments_lexer": "ipython3",
   "version": "3.7.4"
  }
 },
 "nbformat": 4,
 "nbformat_minor": 2
}
