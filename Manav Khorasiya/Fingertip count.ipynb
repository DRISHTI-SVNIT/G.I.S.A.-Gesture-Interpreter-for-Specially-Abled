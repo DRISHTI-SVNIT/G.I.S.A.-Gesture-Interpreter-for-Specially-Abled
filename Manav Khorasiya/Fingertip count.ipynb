{
 "cells": [
  {
   "cell_type": "code",
   "execution_count": 1,
   "metadata": {},
   "outputs": [],
   "source": [
    "#function for skin detection\n",
    "\n",
    "import numpy as np\n",
    "import cv2\n",
    "\n",
    "def skin(img):\n",
    "    hsv=cv2.cvtColor(img,cv2.COLOR_BGR2HSV)\n",
    "    ycbcr=cv2.cvtColor(img, cv2.COLOR_BGR2YCrCb)\n",
    "\n",
    "    b,g,r=cv2.split(img)\n",
    "    y,cr,cb=cv2.split(ycbcr)\n",
    "    h,s,v=cv2.split(hsv)\n",
    "    s=s/(h+s+v)\n",
    "\n",
    "    ans=(0<=h)*(h<=50)*(0.23<s)*(s<0.68)*(r>95)*(g>40)*(b>20)*(r>g)*(r>b)*(abs(r-g)>15)+(r>95)*(g>40)*(b>20)*(r>g)*(r>b)*(abs(r-g)>15)*(cr>135)*(cb>85)*(y>80)*(cr<=(1.5862*cb+20))*(cr>=(0.3448*cb+76.2069))*(cr>=(-4.5652*cb+234.5652))*(cr<=-1.15*cb+301.75)*(cr<=-2.2857*cb+432.85)\n",
    "    b=b*ans\n",
    "    g=g*ans\n",
    "    r=r*ans\n",
    "    new=cv2.merge((b,g,r))\n",
    "    #cv2.imshow('new',new)\n",
    "    return new"
   ]
  },
  {
   "cell_type": "code",
   "execution_count": 3,
   "metadata": {},
   "outputs": [
    {
     "name": "stderr",
     "output_type": "stream",
     "text": [
      "C:\\Users\\Manav Khorasiya\\AppData\\Roaming\\Python\\Python37\\site-packages\\ipykernel_launcher.py:13: RuntimeWarning: divide by zero encountered in true_divide\n",
      "  del sys.path[0]\n"
     ]
    },
    {
     "name": "stdout",
     "output_type": "stream",
     "text": [
      "[388 205]\n",
      "[388 125]\n",
      "[202  27]\n",
      "[193  25]\n",
      "[94 96]\n",
      "[ 76 129]\n",
      "[ 75 133]\n",
      "[ 75 135]\n",
      "[ 83 168]\n",
      "[120 209]\n",
      "[122 210]\n",
      "[126 211]\n",
      "[136 211]\n",
      "[array([388, 205], dtype=int32), array([388, 125], dtype=int32), array([202,  27], dtype=int32), array([193,  25], dtype=int32), array([94, 96], dtype=int32), array([ 76, 129], dtype=int32), array([ 75, 133], dtype=int32), array([ 75, 135], dtype=int32), array([ 83, 168], dtype=int32), array([120, 209], dtype=int32), array([122, 210], dtype=int32), array([126, 211], dtype=int32), array([136, 211], dtype=int32)]\n"
     ]
    }
   ],
   "source": [
    "import cv2\n",
    "import numpy as np\n",
    "         \n",
    "img=cv2.imread('Test Images/hand3.jpg')\n",
    "mask=skin(img)\n",
    "\n",
    "blur=cv2.GaussianBlur(mask,(5,5),0)\n",
    "edged=cv2.Canny(blur,150,250)\n",
    "\n",
    "contours,hierarchy=cv2.findContours(edged,cv2.RETR_CCOMP,cv2.CHAIN_APPROX_SIMPLE)\n",
    "black=np.zeros((img.shape[0],img.shape[1]),dtype='float32')\n",
    "cv2.drawContours(black,contours,-1,(255,255,255),1)\n",
    "ret, thresh = cv2.threshold(blur, 100, 255, cv2.THRESH_BINARY)\n",
    "\n",
    "sorted_contours=sorted(contours,key=cv2.contourArea,reverse=True)\n",
    "cnt=sorted_contours[0]\n",
    "hull = cv2.convexHull(cnt,returnPoints = False)\n",
    "cv2.drawContours(img.copy(), cnt, -1, (0,255,0), 3)\n",
    "cv2.imshow('Largest contour',img)\n",
    "\n",
    "defects = cv2.convexityDefects(cnt,hull)\n",
    "lists=[]\n",
    "\n",
    "for i in range(defects.shape[0]):\n",
    "    s,e,f,d = defects[i,0]\n",
    "    start = cnt[s][0]\n",
    "    print(start)\n",
    "    lists.append(start)\n",
    "    start_c=tuple(start)\n",
    "    end = tuple(cnt[e][0])\n",
    "    far = tuple(cnt[f][0])\n",
    "    cv2.line(img,start_c,end,[0,255,0],2)\n",
    "    #cv2.circle(img,start_c,10,[0,0,255],1)\n",
    "\n",
    "\n",
    "\n",
    "#cv2.imshow('Mask',mask)\n",
    "cv2.imshow('Edged',edged)\n",
    "\n",
    "print(lists)\n",
    "\n",
    "cv2.imshow('Image',img)\n",
    "\n",
    "cv2.waitKey(0)\n",
    "cv2.destroyAllWindows()"
   ]
  },
  {
   "cell_type": "code",
   "execution_count": 4,
   "metadata": {},
   "outputs": [
    {
     "name": "stdout",
     "output_type": "stream",
     "text": [
      "[388 125]\n",
      "12\n",
      "[193  25]\n",
      "11\n",
      "[ 75 133]\n",
      "10\n",
      "[ 75 135]\n",
      "9\n",
      "[122 210]\n",
      "8\n",
      "[126 211]\n",
      "7\n",
      "[136 211]\n",
      "6\n",
      "[array([388, 205], dtype=int32), array([202,  27], dtype=int32), array([94, 96], dtype=int32), array([ 76, 129], dtype=int32), array([ 83, 168], dtype=int32), array([120, 209], dtype=int32)]\n"
     ]
    }
   ],
   "source": [
    "temp=len(lists)\n",
    "i=0\n",
    "while True:\n",
    "    if(abs((lists[i]-lists[i+1])[0]))<=5 or abs((lists[i]-lists[i+1])[1])<=5:\n",
    "        print(lists.pop(i+1))\n",
    "        print(len(lists))\n",
    "        temp-=1\n",
    "    else:\n",
    "        i+=1\n",
    "    if(i>=(temp-1)):\n",
    "        break\n",
    "   \n",
    "       \n",
    "print(lists)  \n"
   ]
  },
  {
   "cell_type": "code",
   "execution_count": 5,
   "metadata": {},
   "outputs": [],
   "source": [
    "for i in range(len(lists)):\n",
    "    start_c=tuple(lists[i])\n",
    "    cv2.circle(img,start_c,10,[0,0,255],1)\n",
    " \n",
    " \n",
    "cv2.imshow('Image',img)\n",
    "\n",
    "cv2.waitKey(0)\n",
    "cv2.destroyAllWindows()"
   ]
  },
  {
   "cell_type": "code",
   "execution_count": 16,
   "metadata": {},
   "outputs": [
    {
     "name": "stderr",
     "output_type": "stream",
     "text": [
      "C:\\Users\\Manav Khorasiya\\AppData\\Roaming\\Python\\Python37\\site-packages\\ipykernel_launcher.py:13: RuntimeWarning: divide by zero encountered in true_divide\n",
      "  del sys.path[0]\n"
     ]
    },
    {
     "name": "stdout",
     "output_type": "stream",
     "text": [
      "[81 20]\n",
      "[64 23]\n",
      "[48 38]\n",
      "[42 44]\n",
      "[  6 186]\n",
      "[  5 190]\n",
      "[ 45 193]\n",
      "[ 47 190]\n",
      "[102  79]\n",
      "[105  33]\n",
      "[array([81, 20], dtype=int32), array([64, 23], dtype=int32), array([48, 38], dtype=int32), array([42, 44], dtype=int32), array([  6, 186], dtype=int32), array([  5, 190], dtype=int32), array([ 45, 193], dtype=int32), array([ 47, 190], dtype=int32), array([102,  79], dtype=int32), array([105,  33], dtype=int32)]\n"
     ]
    }
   ],
   "source": [
    "#using end\n",
    "\n",
    "import cv2\n",
    "import numpy as np\n",
    "         \n",
    "img=cv2.imread('hand4.jpeg')\n",
    "mask=skin(img)\n",
    "\n",
    "blur=cv2.GaussianBlur(mask,(5,5),0)\n",
    "edged=cv2.Canny(blur,150,250)\n",
    "\n",
    "contours,hierarchy=cv2.findContours(edged,cv2.RETR_CCOMP,cv2.CHAIN_APPROX_SIMPLE)\n",
    "black=np.zeros((img.shape[0],img.shape[1]),dtype='float32')\n",
    "cv2.drawContours(black,contours,-1,(255,255,255),1)\n",
    "ret, thresh = cv2.threshold(blur, 100, 255, cv2.THRESH_BINARY)\n",
    "\n",
    "sorted_contours=sorted(contours,key=cv2.contourArea,reverse=True)\n",
    "cnt=sorted_contours[0]\n",
    "hull = cv2.convexHull(cnt,returnPoints = False)\n",
    "cv2.drawContours(img.copy(), cnt, -1, (0,255,0), 3)\n",
    "cv2.imshow('Largest contour',img)\n",
    "\n",
    "defects = cv2.convexityDefects(cnt,hull)\n",
    "lists=[]\n",
    "\n",
    "for i in range(defects.shape[0]):\n",
    "    s,e,f,d = defects[i,0]\n",
    "    start = tuple(cnt[s][0])\n",
    "    end = cnt[e][0]\n",
    "    end_c=tuple(end)\n",
    "    print(end)\n",
    "    lists.append(end)\n",
    "    far = tuple(cnt[f][0])\n",
    "    cv2.line(img,end_c,start,[0,255,0],2)\n",
    "    #cv2.circle(img,start_c,10,[0,0,255],1)\n",
    "\n",
    "\n",
    "\n",
    "#cv2.imshow('Mask',mask)\n",
    "cv2.imshow('Edged',edged)\n",
    "\n",
    "print(lists)\n",
    "\n",
    "cv2.imshow('Image',img)\n",
    "\n",
    "cv2.waitKey(0)\n",
    "cv2.destroyAllWindows()"
   ]
  },
  {
   "cell_type": "code",
   "execution_count": null,
   "metadata": {},
   "outputs": [],
   "source": []
  },
  {
   "cell_type": "code",
   "execution_count": null,
   "metadata": {},
   "outputs": [],
   "source": []
  }
 ],
 "metadata": {
  "kernelspec": {
   "display_name": "Python 3",
   "language": "python",
   "name": "python3"
  },
  "language_info": {
   "codemirror_mode": {
    "name": "ipython",
    "version": 3
   },
   "file_extension": ".py",
   "mimetype": "text/x-python",
   "name": "python",
   "nbconvert_exporter": "python",
   "pygments_lexer": "ipython3",
   "version": "3.7.3"
  }
 },
 "nbformat": 4,
 "nbformat_minor": 2
}
