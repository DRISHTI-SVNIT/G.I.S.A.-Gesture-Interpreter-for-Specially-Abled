{
 "cells": [
  {
   "cell_type": "code",
   "execution_count": 1,
   "metadata": {},
   "outputs": [],
   "source": [
    "import cv2\n",
    "import numpy as np\n",
    "import tensorflow as tf"
   ]
  },
  {
   "cell_type": "code",
   "execution_count": 2,
   "metadata": {},
   "outputs": [],
   "source": [
    "model = tf.keras.models.load_model(\"Transfer-Resnet50_4.model\" , compile = False)"
   ]
  },
  {
   "cell_type": "code",
   "execution_count": 3,
   "metadata": {},
   "outputs": [],
   "source": [
    "def prepare(ima):\n",
    "    IMG_SIZE = 100  # 50 in txt-based\n",
    "    img_array = ima*255\n",
    "    img_array=img_array/255.0  # filepathread in the image, convert to grayscale\n",
    "    new_array = cv2.resize(img_array, (IMG_SIZE*3, IMG_SIZE))  # resize image to match model's expected sizing\n",
    "    return new_array.reshape(-1,IMG_SIZE, IMG_SIZE,3)"
   ]
  },
  {
   "cell_type": "code",
   "execution_count": 4,
   "metadata": {},
   "outputs": [],
   "source": [
    "def func(image,image1):\n",
    "    new1 = cv2.cvtColor(image, cv2.COLOR_BGR2GRAY)\n",
    "    dist = cv2.distanceTransform(new1, cv2.DIST_L2, 5)\n",
    "    cv2.normalize(dist, dist, 0, 1.0, cv2.NORM_MINMAX)\n",
    "    return image1,dist"
   ]
  },
  {
   "cell_type": "code",
   "execution_count": 5,
   "metadata": {},
   "outputs": [
    {
     "name": "stdout",
     "output_type": "stream",
     "text": [
      "(100, 100, 3)\n"
     ]
    }
   ],
   "source": [
    "img=cv2.imread(\"DTDataset/1/1.jpg\")\n",
    "print(img.shape)"
   ]
  },
  {
   "cell_type": "code",
   "execution_count": 6,
   "metadata": {},
   "outputs": [],
   "source": [
    "def callback(x):\n",
    "    pass\n",
    "cv2.namedWindow('image1')\n",
    "cx=100\n",
    "cy=100\n",
    "rw=300\n",
    "rh=300\n",
    "cap=cv2.VideoCapture(0)\n",
    "ilowH = 0\n",
    "ihighH = 255\n",
    "ilowS = 0\n",
    "ihighS = 255\n",
    "ilowV = 0\n",
    "ihighV = 255\n",
    "cv2.createTrackbar('lowH1', 'image1', ilowH, 255, callback)\n",
    "cv2.createTrackbar('highH1', 'image1', ihighH, 255, callback)\n",
    "cv2.createTrackbar('lowS1', 'image1', ilowS, 255, callback)\n",
    "cv2.createTrackbar('highS1', 'image1', ihighS, 255, callback)\n",
    "cv2.createTrackbar('lowV1', 'image1', ilowV, 255, callback)\n",
    "cv2.createTrackbar('highV1', 'image1', ihighV, 255, callback)\n",
    "while True:\n",
    "    ret,frame=cap.read()\n",
    "    ilowH1 = cv2.getTrackbarPos('lowH1', 'image1')\n",
    "    ihighH1 = cv2.getTrackbarPos('highH1', 'image1')\n",
    "    ilowS1 = cv2.getTrackbarPos('lowS1', 'image1')\n",
    "    ihighS1 = cv2.getTrackbarPos('highS1', 'image1')\n",
    "    ilowV1 = cv2.getTrackbarPos('lowV1', 'image1')\n",
    "    ihighV1 = cv2.getTrackbarPos('highV1', 'image1')\n",
    "    hsv=cv2.cvtColor(frame,cv2.COLOR_BGR2HSV)\n",
    "    low1=np.array([ilowH1,ilowS1,ilowV1])\n",
    "    high1=np.array([ihighH1,ihighS1,ihighV1])\n",
    "    img_mask1=cv2.inRange(hsv,low1,high1)\n",
    "    output1=cv2.bitwise_and(frame,frame,mask=img_mask1)\n",
    "    cv2.imshow(\"image1\",frame)\n",
    "    pre=output1[cx:rw,cy:rh]\n",
    "    image,dist=func(pre,frame)\n",
    "    #print(dist.shape)\n",
    "    cv2.imshow('dist',dist)\n",
    "    prediction = model.predict([prepare(dist)])\n",
    "    prediction=np.argmax(prediction)\n",
    "    x1=str(prediction)\n",
    "    cv2.putText(frame,x1,(60,80),cv2.FONT_HERSHEY_SIMPLEX,3.0,(255,255,255),lineType=cv2.LINE_AA)\n",
    "    cv2.rectangle(frame,(cx,cy),(cx+rw,cy+rh),(255,255,255),5)\n",
    "    cv2.putText(output1,x1,(60,80),cv2.FONT_HERSHEY_SIMPLEX,3.0,(255,255,255),lineType=cv2.LINE_AA)\n",
    "    cv2.rectangle(output1,(cx,cy),(cx+rw,cy+rh),(255,255,255),5)\n",
    "    cv2.imshow(\"image\",output1)\n",
    "    cv2.imshow(\"image1\",frame)\n",
    "    if (cv2.waitKey(1) == 13):\n",
    "        break\n",
    "cv2.destroyAllWindows()\n",
    "cap.release()"
   ]
  },
  {
   "cell_type": "code",
   "execution_count": null,
   "metadata": {},
   "outputs": [],
   "source": []
  },
  {
   "cell_type": "code",
   "execution_count": null,
   "metadata": {},
   "outputs": [],
   "source": []
  }
 ],
 "metadata": {
  "kernelspec": {
   "display_name": "Python 3",
   "language": "python",
   "name": "python3"
  },
  "language_info": {
   "codemirror_mode": {
    "name": "ipython",
    "version": 3
   },
   "file_extension": ".py",
   "mimetype": "text/x-python",
   "name": "python",
   "nbconvert_exporter": "python",
   "pygments_lexer": "ipython3",
   "version": "3.7.3"
  }
 },
 "nbformat": 4,
 "nbformat_minor": 2
}
