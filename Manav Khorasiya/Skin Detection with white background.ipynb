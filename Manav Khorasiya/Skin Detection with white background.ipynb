{
 "cells": [
  {
   "cell_type": "code",
   "execution_count": 5,
   "metadata": {},
   "outputs": [],
   "source": [
    "import cv2\n",
    "import tensorflow as tf\n",
    "import numpy as np\n",
    "import matplotlib.pyplot as plt"
   ]
  },
  {
   "cell_type": "code",
   "execution_count": null,
   "metadata": {},
   "outputs": [
    {
     "name": "stderr",
     "output_type": "stream",
     "text": [
      "/home/manavkhorasiya/anaconda3/lib/python3.7/site-packages/ipykernel_launcher.py:7: RuntimeWarning: divide by zero encountered in true_divide\n",
      "  import sys\n",
      "/home/manavkhorasiya/anaconda3/lib/python3.7/site-packages/ipykernel_launcher.py:7: RuntimeWarning: invalid value encountered in true_divide\n",
      "  import sys\n",
      "/home/manavkhorasiya/anaconda3/lib/python3.7/site-packages/ipykernel_launcher.py:8: RuntimeWarning: invalid value encountered in greater\n",
      "  \n",
      "/home/manavkhorasiya/anaconda3/lib/python3.7/site-packages/ipykernel_launcher.py:8: RuntimeWarning: invalid value encountered in less\n",
      "  \n"
     ]
    },
    {
     "name": "stdout",
     "output_type": "stream",
     "text": [
      "<class 'numpy.ndarray'>\n"
     ]
    }
   ],
   "source": [
    "image = cv2.imread(\"Test images/hand2.jpg\")\n",
    "hsv=cv2.cvtColor(image,cv2.COLOR_BGR2HSV)\n",
    "ycbcr=cv2.cvtColor(image, cv2.COLOR_BGR2YCrCb)\n",
    "b,g,r=cv2.split(image)\n",
    "y,cr,cb=cv2.split(ycbcr)\n",
    "h,s,v=cv2.split(hsv)\n",
    "s=s/(h+s+v)\n",
    "ans=((0<=h)*(h<=50)*(0.23<s)*(s<0.68)*(r>95)*(g>40)*(b>20)*(r>g)*(r>b)*(abs(r-g)>15))+((r>95)*(g>40)*(b>20)*(r>g)*(r>b)*(abs(r-g)>15)*(cr>135)*(cb>85)*(y>80)*(cr<=(1.5862*cb+20))*(cr>=(0.3448*cb+76.2069))*(cr>=(-4.5652*cb+234.5652))*(cr<=-1.15*cb+301.75)*(cr<=-2.2857*cb+432.85))\n",
    "b=b*ans\n",
    "g=g*ans\n",
    "r=r*ans\n",
    "new=cv2.merge((b,g,r))\n",
    "ans=ans*255\n",
    "new1=cv2.merge((ans,ans,ans))\n",
    "print(type(new1))\n",
    "cv2.imwrite(\"Test images/new1.jpeg\",new1)\n",
    "new1=cv2.imread(\"Test images/new1.jpeg\")\n",
    "cv2.imshow('new1',new1)\n",
    "new1=255-new1\n",
    "new=new+new1\n",
    "cv2.imshow(\"new,\",new)\n",
    "cv2.waitKey(0)\n",
    "cv2.destroyAllWindows()"
   ]
  },
  {
   "cell_type": "code",
   "execution_count": null,
   "metadata": {},
   "outputs": [],
   "source": [
    "model = tf.keras.models.load_model(\"CNN.model\")"
   ]
  },
  {
   "cell_type": "code",
   "execution_count": null,
   "metadata": {},
   "outputs": [],
   "source": [
    "def prepare(ima):\n",
    "    IMG_SIZE = 100  # 50 in txt-based\n",
    "    img_array = cv2.cvtColor(ima,cv2.COLOR_BGR2GRAY)\n",
    "    img_array=img_array/255.0  # filepathread in the image, convert to grayscale\n",
    "    new_array = cv2.resize(img_array, (IMG_SIZE, IMG_SIZE))  # resize image to match model's expected sizing\n",
    "    return new_array.reshape(-1,IMG_SIZE, IMG_SIZE,1)"
   ]
  },
  {
   "cell_type": "code",
   "execution_count": null,
   "metadata": {},
   "outputs": [],
   "source": [
    "#main function for detecting skin with background being white\n",
    "def whitebg_skin(image):    \n",
    "    hsv=cv2.cvtColor(image,cv2.COLOR_BGR2HSV)\n",
    "    ycbcr=cv2.cvtColor(image, cv2.COLOR_BGR2YCrCb)\n",
    "    b,g,r=cv2.split(image)\n",
    "    y,cr,cb=cv2.split(ycbcr)\n",
    "    h,s,v=cv2.split(hsv)\n",
    "    s=s/(h+s+v)\n",
    "    ans=((0<=h)*(h<=50)*(0.23<s)*(s<0.68)*(r>95)*(g>40)*(b>20)*(r>g)*(r>b)*(abs(r-g)>15))+((r>95)*(g>40)*(b>20)*(r>g)*(r>b)*(abs(r-g)>15)*(cr>135)*(cb>85)*(y>80)*(cr<=(1.5862*cb+20))*(cr>=(0.3448*cb+76.2069))*(cr>=(-4.5652*cb+234.5652))*(cr<=-1.15*cb+301.75)*(cr<=-2.2857*cb+432.85))\n",
    "    b=b*ans\n",
    "    g=g*ans\n",
    "    r=r*ans\n",
    "    new=cv2.merge((b,g,r))\n",
    "    ans=ans*255\n",
    "    new1=cv2.merge((ans,ans,ans))\n",
    "    cv2.imwrite(\"Test images/new1.jpeg\",new1)\n",
    "    new1=cv2.imread(\"Test images/new1.jpeg\")\n",
    "    new1=255-new1\n",
    "    new=new+new1\n",
    "    return new"
   ]
  },
  {
   "cell_type": "code",
   "execution_count": null,
   "metadata": {},
   "outputs": [],
   "source": [
    "cap=cv2.VideoCapture(0)\n",
    "cx=100\n",
    "cy=100\n",
    "rw=300\n",
    "rh=300\n",
    "while True:\n",
    "    ret, image=cap.read()\n",
    "    new=whitebg_skin(image)\n",
    "    #cv2.imshow('new',new)\n",
    "    pre=new[cx:rw,cy:rh]\n",
    "    prediction = model.predict([prepare(pre)])\n",
    "    prediction=np.argmax(prediction)\n",
    "    x1=prediction\n",
    "    try:\n",
    "         cv2.putText(new,str(x1),(50,50),cv2.FONT_HERSHEY_SIMPLEX,1.0,(0,255,0),lineType=cv2.LINE_AA)\n",
    "    except:\n",
    "          print(\"Variable x1 is not empty\")\n",
    "    cv2.rectangle(new,(cx,cy),(cx+rw,cy+rh),(0,255,0),2)\n",
    "    cv2.imshow('new',new)\n",
    "    keypress = cv2.waitKey(1) & 0xFF\n",
    "    if keypress == ord('q'):\n",
    "        break\n",
    "cap.release()\n",
    "cv2.destroyAllWindows()"
   ]
  },
  {
   "cell_type": "code",
   "execution_count": null,
   "metadata": {},
   "outputs": [],
   "source": []
  }
 ],
 "metadata": {
  "kernelspec": {
   "display_name": "Python 3",
   "language": "python",
   "name": "python3"
  },
  "language_info": {
   "codemirror_mode": {
    "name": "ipython",
    "version": 3
   },
   "file_extension": ".py",
   "mimetype": "text/x-python",
   "name": "python",
   "nbconvert_exporter": "python",
   "pygments_lexer": "ipython3",
   "version": "3.7.4"
  }
 },
 "nbformat": 4,
 "nbformat_minor": 2
}
