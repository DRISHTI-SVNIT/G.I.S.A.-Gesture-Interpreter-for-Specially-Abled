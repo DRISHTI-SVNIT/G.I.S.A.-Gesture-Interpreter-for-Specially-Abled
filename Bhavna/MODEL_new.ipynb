{
 "cells": [
  {
   "cell_type": "code",
   "execution_count": 16,
   "metadata": {},
   "outputs": [],
   "source": [
    "import os\n",
    "import numpy as np\n",
    "from PIL import Image\n",
    "import tensorflow as tf\n",
    "import tensorflow.keras\n",
    "from tensorflow.keras.models import Sequential\n",
    "from tensorflow.keras.layers import Dense, Dropout, Activation, Flatten,BatchNormalization\n",
    "from tensorflow.keras.layers import Conv2D, MaxPooling2D\n",
    "from tensorflow.keras import backend as K\n",
    "from tensorflow.keras.callbacks import ModelCheckpoint\n",
    "import matplotlib.pyplot as plt\n",
    "\n",
    "import pickle"
   ]
  },
  {
   "cell_type": "code",
   "execution_count": 19,
   "metadata": {},
   "outputs": [],
   "source": [
    "K.clear_session()\n",
    "\n",
    "pickle_in = open(\"X.pickle\",\"rb\")\n",
    "X = pickle.load(pickle_in)\n",
    "\n",
    "\n",
    "pickle_in = open(\"y.pickle\",\"rb\")\n",
    "y = pickle.load(pickle_in)\n",
    "\n",
    "X=np.array(X)\n",
    "y=np.asarray(y)\n",
    "\n",
    "model = Sequential()\n",
    "model.add(Conv2D(input_shape=(100,100,1),filters = 32,kernel_size=(2,2),strides = (1,1),padding='same',data_format='channels_last',activation = 'relu'))\n",
    "model.add(BatchNormalization())\n",
    "model.add(MaxPooling2D(pool_size=(2,2)))\n",
    "          \n",
    "model.add(Conv2D(filters = 64,kernel_size=(3,3),padding='same',data_format = 'channels_last',activation='relu'))\n",
    "model.add(BatchNormalization())\n",
    "model.add(MaxPooling2D(pool_size=(2,2)))\n",
    "\n",
    "model.add(Conv2D(filters = 64,kernel_size=(3,3),strides = (1,1),padding='same',data_format='channels_last',activation = 'relu'))\n",
    "model.add(BatchNormalization())\n",
    "model.add(MaxPooling2D(pool_size=(2,2)))\n",
    "\n",
    "model.add(Conv2D(filters = 128,kernel_size=(3,3),padding='same',data_format = 'channels_last',activation = 'relu'))\n",
    "model.add(BatchNormalization())\n",
    "model.add(MaxPooling2D(pool_size=(2,2)))\n",
    "\n",
    "model.add(Conv2D(filters = 128,kernel_size=(3,3),padding='same',data_format = 'channels_last',activation = 'relu'))\n",
    "model.add(BatchNormalization())\n",
    "model.add(MaxPooling2D(pool_size=(2,2)))\n",
    "model.add(Dropout(0.25))\n",
    "          \n",
    "model.add(Flatten(data_format = 'channels_last'))\n",
    "model.add(Dense(1024,activation = 'relu',kernel_regularizer = tf.keras.regularizers.l2(l = 0.09)))\n",
    "model.add(BatchNormalization())\n",
    "model.add(Dense(256,activation = 'relu',kernel_regularizer = tf.keras.regularizers.l2(l = 0.09)))\n",
    "model.add(BatchNormalization())\n",
    "model.add(Dense(10,activation='softmax'))\n",
    "\n",
    "\n"
   ]
  },
  {
   "cell_type": "code",
   "execution_count": 18,
   "metadata": {},
   "outputs": [
    {
     "data": {
      "text/plain": [
       "array([0, 5, 8, ..., 8, 9, 0])"
      ]
     },
     "execution_count": 18,
     "metadata": {},
     "output_type": "execute_result"
    }
   ],
   "source": [
    "y"
   ]
  },
  {
   "cell_type": "code",
   "execution_count": 21,
   "metadata": {},
   "outputs": [
    {
     "name": "stdout",
     "output_type": "stream",
     "text": [
      "Train on 9265 samples, validate on 3089 samples\n",
      "Epoch 1/10\n",
      "9265/9265 [==============================] - 105s 11ms/sample - loss: 1.6014 - accuracy: 0.8515 - val_loss: 1.1398 - val_accuracy: 0.9110\n",
      "Epoch 2/10\n",
      "9265/9265 [==============================] - 145s 16ms/sample - loss: 1.1304 - accuracy: 0.8974 - val_loss: 1.0764 - val_accuracy: 0.8750\n",
      "Epoch 3/10\n",
      "9265/9265 [==============================] - 98s 11ms/sample - loss: 0.9716 - accuracy: 0.9198 - val_loss: 0.8081 - val_accuracy: 0.9414\n",
      "Epoch 4/10\n",
      "9265/9265 [==============================] - 103s 11ms/sample - loss: 0.8135 - accuracy: 0.9347 - val_loss: 0.8922 - val_accuracy: 0.9051\n",
      "Epoch 5/10\n",
      "9265/9265 [==============================] - 99s 11ms/sample - loss: 0.7336 - accuracy: 0.9427 - val_loss: 0.7591 - val_accuracy: 0.9417\n",
      "Epoch 6/10\n",
      "9265/9265 [==============================] - 99s 11ms/sample - loss: 0.6791 - accuracy: 0.9510 - val_loss: 1.8011 - val_accuracy: 0.6860\n",
      "Epoch 7/10\n",
      "9265/9265 [==============================] - 99s 11ms/sample - loss: 0.6619 - accuracy: 0.9566 - val_loss: 0.8658 - val_accuracy: 0.8715\n",
      "Epoch 8/10\n",
      "9265/9265 [==============================] - 99s 11ms/sample - loss: 0.6553 - accuracy: 0.9548 - val_loss: 0.8323 - val_accuracy: 0.8857\n",
      "Epoch 9/10\n",
      "9265/9265 [==============================] - 100s 11ms/sample - loss: 0.5841 - accuracy: 0.9654 - val_loss: 0.5340 - val_accuracy: 0.9508\n",
      "Epoch 10/10\n",
      "9265/9265 [==============================] - 102s 11ms/sample - loss: 0.5788 - accuracy: 0.9586 - val_loss: 0.6111 - val_accuracy: 0.9806\n",
      "INFO:tensorflow:Assets written to: CNNFINAL.model/assets\n"
     ]
    }
   ],
   "source": [
    "model.compile(loss='sparse_categorical_crossentropy',\n",
    "              optimizer='adam',\n",
    "              metrics=['accuracy'])\n",
    "\n",
    "model.fit(X, y, batch_size=32, epochs=10, validation_split=0.25)\n",
    "\n",
    "model.save('CNNFINAL.model')\n",
    "model.save_weights('CNNFINALWEIGHTS.h5')"
   ]
  },
  {
   "cell_type": "code",
   "execution_count": 28,
   "metadata": {},
   "outputs": [],
   "source": [
    "def prepare(filepath):\n",
    "    IMG_SIZE=100\n",
    "    img_array = cv2.imread(filepath,cv2.IMREAD_GRAYSCALE)\n",
    "    img_array = img_array/255\n",
    "    new_array = cv2.resize(img_array, (IMG_SIZE,IMG_SIZE))\n",
    "    return new_array.reshape(-1,IMG_SIZE,IMG_SIZE,1)"
   ]
  },
  {
   "cell_type": "code",
   "execution_count": 38,
   "metadata": {},
   "outputs": [],
   "source": [
    "model = tf.keras.models.load_model(\"CNNFINAL.model\")\n",
    "for i in range(1,1231):\n",
    "    prediction = model.predict([prepare(\"/Users/bhavnamatwani/Desktop/DRISHTI/G.I.S.A./Dataset/4/\"+str(i)+\".jpeg\")])\n",
    "    #print(prediction)\n",
    "    prediction=np.argmax(prediction)\n",
    "    count=0\n",
    "    if(prediction!=4):\n",
    "        count+=1\n",
    "print(\"Count is \")"
   ]
  },
  {
   "cell_type": "code",
   "execution_count": 39,
   "metadata": {},
   "outputs": [
    {
     "name": "stdout",
     "output_type": "stream",
     "text": [
      "1\n"
     ]
    }
   ],
   "source": [
    "print(count)"
   ]
  },
  {
   "cell_type": "code",
   "execution_count": null,
   "metadata": {},
   "outputs": [],
   "source": []
  }
 ],
 "metadata": {
  "kernelspec": {
   "display_name": "Python 3",
   "language": "python",
   "name": "python3"
  },
  "language_info": {
   "codemirror_mode": {
    "name": "ipython",
    "version": 3
   },
   "file_extension": ".py",
   "mimetype": "text/x-python",
   "name": "python",
   "nbconvert_exporter": "python",
   "pygments_lexer": "ipython3",
   "version": "3.7.4"
  }
 },
 "nbformat": 4,
 "nbformat_minor": 2
}
