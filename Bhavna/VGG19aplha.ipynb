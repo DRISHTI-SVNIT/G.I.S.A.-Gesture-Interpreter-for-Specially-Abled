{
  "nbformat": 4,
  "nbformat_minor": 0,
  "metadata": {
    "colab": {
      "name": "VGG19aplha.ipynb",
      "provenance": []
    },
    "kernelspec": {
      "name": "python3",
      "display_name": "Python 3"
    },
    "accelerator": "GPU"
  },
  "cells": [
    {
      "cell_type": "code",
      "metadata": {
        "id": "uqPtjXEVMaOZ",
        "colab_type": "code",
        "colab": {}
      },
      "source": [
        ""
      ],
      "execution_count": 0,
      "outputs": []
    },
    {
      "cell_type": "code",
      "metadata": {
        "id": "atEo3bLzMkiR",
        "colab_type": "code",
        "colab": {
          "base_uri": "https://localhost:8080/",
          "height": 122
        },
        "outputId": "2aed9f48-1070-4a4d-929c-fb8728d95866"
      },
      "source": [
        "from google.colab import drive\n",
        "drive.mount('/content/drive')"
      ],
      "execution_count": 1,
      "outputs": [
        {
          "output_type": "stream",
          "text": [
            "Go to this URL in a browser: https://accounts.google.com/o/oauth2/auth?client_id=947318989803-6bn6qk8qdgf4n4g3pfee6491hc0brc4i.apps.googleusercontent.com&redirect_uri=urn%3aietf%3awg%3aoauth%3a2.0%3aoob&response_type=code&scope=email%20https%3a%2f%2fwww.googleapis.com%2fauth%2fdocs.test%20https%3a%2f%2fwww.googleapis.com%2fauth%2fdrive%20https%3a%2f%2fwww.googleapis.com%2fauth%2fdrive.photos.readonly%20https%3a%2f%2fwww.googleapis.com%2fauth%2fpeopleapi.readonly\n",
            "\n",
            "Enter your authorization code:\n",
            "··········\n",
            "Mounted at /content/drive\n"
          ],
          "name": "stdout"
        }
      ]
    },
    {
      "cell_type": "code",
      "metadata": {
        "id": "oN0NLVK4M2MH",
        "colab_type": "code",
        "colab": {
          "base_uri": "https://localhost:8080/",
          "height": 63
        },
        "outputId": "e3f85eec-5b87-4424-a9ed-c6a562dca281"
      },
      "source": [
        "import tensorflow as tf\n",
        "from tensorflow.keras.datasets import cifar10\n",
        "from tensorflow.keras.preprocessing.image import ImageDataGenerator\n",
        "from tensorflow.keras.models import Sequential\n",
        "from tensorflow.keras.layers import Dense, Dropout, Activation, Flatten\n",
        "from tensorflow.keras.layers import Conv2D, MaxPool2D\n",
        "\n",
        "import pickle\n",
        "import numpy as np\n",
        "from tensorflow.keras.optimizers import Nadam"
      ],
      "execution_count": 2,
      "outputs": [
        {
          "output_type": "display_data",
          "data": {
            "text/html": [
              "<p style=\"color: red;\">\n",
              "The default version of TensorFlow in Colab will soon switch to TensorFlow 2.x.<br>\n",
              "We recommend you <a href=\"https://www.tensorflow.org/guide/migrate\" target=\"_blank\">upgrade</a> now \n",
              "or ensure your notebook will continue to use TensorFlow 1.x via the <code>%tensorflow_version 1.x</code> magic:\n",
              "<a href=\"https://colab.research.google.com/notebooks/tensorflow_version.ipynb\" target=\"_blank\">more info</a>.</p>\n"
            ],
            "text/plain": [
              "<IPython.core.display.HTML object>"
            ]
          },
          "metadata": {
            "tags": []
          }
        }
      ]
    },
    {
      "cell_type": "code",
      "metadata": {
        "id": "vfaSS4MdM_6N",
        "colab_type": "code",
        "colab": {
          "base_uri": "https://localhost:8080/",
          "height": 1000
        },
        "outputId": "2c9c2187-84ed-47e0-9554-8f7098b590f0"
      },
      "source": [
        "pickle_in = open(\"drive/My Drive/ArjunParmar/X5.pickle\",\"rb\")\n",
        "X = pickle.load(pickle_in)\n",
        "\n",
        "\n",
        "pickle_in = open(\"drive/My Drive/ArjunParmar/y5.pickle\",\"rb\")\n",
        "y = pickle.load(pickle_in)\n",
        "X = X/255.0\n",
        "model = Sequential()\n",
        "model.add(Conv2D(input_shape=X.shape[1:],filters=64,kernel_size=(3,3),padding=\"same\", activation=\"relu\"))\n",
        "model.add(Conv2D(filters=64,kernel_size=(3,3),padding=\"same\", activation=\"relu\"))\n",
        "model.add(MaxPool2D(pool_size=(2,2),strides=(2,2)))\n",
        "\n",
        "model.add(Conv2D(filters=128, kernel_size=(3,3), padding=\"same\", activation=\"relu\"))\n",
        "model.add(Conv2D(filters=128, kernel_size=(3,3), padding=\"same\", activation=\"relu\"))\n",
        "model.add(MaxPool2D(pool_size=(2,2),strides=(2,2)))\n",
        "\n",
        "model.add(Conv2D(filters=256, kernel_size=(3,3), padding=\"same\", activation=\"relu\"))\n",
        "model.add(Conv2D(filters=256, kernel_size=(3,3), padding=\"same\", activation=\"relu\"))\n",
        "model.add(Conv2D(filters=256, kernel_size=(3,3), padding=\"same\", activation=\"relu\"))\n",
        "model.add(Conv2D(filters=256, kernel_size=(3,3), padding=\"same\", activation=\"relu\"))\n",
        "model.add(MaxPool2D(pool_size=(2,2),strides=(2,2)))\n",
        "\n",
        "model.add(Conv2D(filters=512, kernel_size=(3,3), padding=\"same\", activation=\"relu\"))\n",
        "model.add(Conv2D(filters=512, kernel_size=(3,3), padding=\"same\", activation=\"relu\"))\n",
        "model.add(Conv2D(filters=512, kernel_size=(3,3), padding=\"same\", activation=\"relu\"))\n",
        "model.add(Conv2D(filters=512, kernel_size=(3,3), padding=\"same\", activation=\"relu\"))\n",
        "model.add(MaxPool2D(pool_size=(2,2),strides=(2,2)))\n",
        "\n",
        "model.add(Conv2D(filters=512, kernel_size=(3,3), padding=\"same\", activation=\"relu\"))\n",
        "model.add(Conv2D(filters=512, kernel_size=(3,3), padding=\"same\", activation=\"relu\"))\n",
        "model.add(Conv2D(filters=512, kernel_size=(3,3), padding=\"same\", activation=\"relu\"))\n",
        "model.add(Conv2D(filters=512, kernel_size=(3,3), padding=\"same\", activation=\"relu\"))\n",
        "model.add(MaxPool2D(pool_size=(2,2),strides=(2,2)))\n",
        "\n",
        "model.add(Flatten())\n",
        "model.add(Dense(units=4096,activation=\"relu\"))\n",
        "model.add(Dense(units=4096,activation=\"relu\"))\n",
        "model.add(Dense(units=26, activation=\"softmax\"))\n",
        "\n",
        "\n",
        "model.compile(optimizer='nadam', loss='sparse_categorical_crossentropy', metrics=['accuracy'])\n",
        "model.fit(X, y, batch_size=10, epochs=50, validation_split=0.25)\n",
        "model.save('VGG19.model')\n",
        "model.save_weights('VGG19.h5')"
      ],
      "execution_count": 3,
      "outputs": [
        {
          "output_type": "stream",
          "text": [
            "WARNING:tensorflow:From /usr/local/lib/python3.6/dist-packages/tensorflow_core/python/ops/resource_variable_ops.py:1630: calling BaseResourceVariable.__init__ (from tensorflow.python.ops.resource_variable_ops) with constraint is deprecated and will be removed in a future version.\n",
            "Instructions for updating:\n",
            "If using Keras pass *_constraint arguments to layers.\n",
            "Train on 2722 samples, validate on 908 samples\n",
            "Epoch 1/50\n",
            "2722/2722 [==============================] - 24s 9ms/sample - loss: 3.2779 - acc: 0.0360 - val_loss: 3.2588 - val_acc: 0.0297\n",
            "Epoch 2/50\n",
            "2722/2722 [==============================] - 17s 6ms/sample - loss: 3.2585 - acc: 0.0371 - val_loss: 3.2594 - val_acc: 0.0297\n",
            "Epoch 3/50\n",
            "2722/2722 [==============================] - 17s 6ms/sample - loss: 3.2584 - acc: 0.0386 - val_loss: 3.2599 - val_acc: 0.0297\n",
            "Epoch 4/50\n",
            "2722/2722 [==============================] - 17s 6ms/sample - loss: 3.2583 - acc: 0.0353 - val_loss: 3.2603 - val_acc: 0.0297\n",
            "Epoch 5/50\n",
            "2722/2722 [==============================] - 17s 6ms/sample - loss: 3.2582 - acc: 0.0371 - val_loss: 3.2607 - val_acc: 0.0297\n",
            "Epoch 6/50\n",
            "2722/2722 [==============================] - 17s 6ms/sample - loss: 3.2581 - acc: 0.0400 - val_loss: 3.2611 - val_acc: 0.0297\n",
            "Epoch 7/50\n",
            "2722/2722 [==============================] - 17s 6ms/sample - loss: 3.2581 - acc: 0.0393 - val_loss: 3.2614 - val_acc: 0.0297\n",
            "Epoch 8/50\n",
            "2722/2722 [==============================] - 17s 6ms/sample - loss: 3.2581 - acc: 0.0397 - val_loss: 3.2617 - val_acc: 0.0297\n",
            "Epoch 9/50\n",
            "2722/2722 [==============================] - 17s 6ms/sample - loss: 3.2580 - acc: 0.0415 - val_loss: 3.2621 - val_acc: 0.0297\n",
            "Epoch 10/50\n",
            "2722/2722 [==============================] - 17s 6ms/sample - loss: 3.2580 - acc: 0.0397 - val_loss: 3.2623 - val_acc: 0.0297\n",
            "Epoch 11/50\n",
            "2722/2722 [==============================] - 17s 6ms/sample - loss: 3.2580 - acc: 0.0415 - val_loss: 3.2624 - val_acc: 0.0297\n",
            "Epoch 12/50\n",
            "2722/2722 [==============================] - 17s 6ms/sample - loss: 3.2580 - acc: 0.0415 - val_loss: 3.2626 - val_acc: 0.0297\n",
            "Epoch 13/50\n",
            "2722/2722 [==============================] - 17s 6ms/sample - loss: 3.2580 - acc: 0.0415 - val_loss: 3.2626 - val_acc: 0.0297\n",
            "Epoch 14/50\n",
            "2722/2722 [==============================] - 17s 6ms/sample - loss: 3.2579 - acc: 0.0408 - val_loss: 3.2627 - val_acc: 0.0297\n",
            "Epoch 15/50\n",
            "2722/2722 [==============================] - 17s 6ms/sample - loss: 3.2580 - acc: 0.0386 - val_loss: 3.2628 - val_acc: 0.0297\n",
            "Epoch 16/50\n",
            "2722/2722 [==============================] - 17s 6ms/sample - loss: 3.2580 - acc: 0.0415 - val_loss: 3.2629 - val_acc: 0.0297\n",
            "Epoch 17/50\n",
            "2722/2722 [==============================] - 17s 6ms/sample - loss: 3.2579 - acc: 0.0364 - val_loss: 3.2629 - val_acc: 0.0297\n",
            "Epoch 18/50\n",
            "2722/2722 [==============================] - 17s 6ms/sample - loss: 3.2580 - acc: 0.0415 - val_loss: 3.2630 - val_acc: 0.0297\n",
            "Epoch 19/50\n",
            "2722/2722 [==============================] - 17s 6ms/sample - loss: 3.2579 - acc: 0.0415 - val_loss: 3.2631 - val_acc: 0.0297\n",
            "Epoch 20/50\n",
            "2722/2722 [==============================] - 17s 6ms/sample - loss: 3.2580 - acc: 0.0415 - val_loss: 3.2631 - val_acc: 0.0297\n",
            "Epoch 21/50\n",
            "2722/2722 [==============================] - 17s 6ms/sample - loss: 3.2579 - acc: 0.0415 - val_loss: 3.2631 - val_acc: 0.0297\n",
            "Epoch 22/50\n",
            "2722/2722 [==============================] - 17s 6ms/sample - loss: 3.2580 - acc: 0.0415 - val_loss: 3.2631 - val_acc: 0.0297\n",
            "Epoch 23/50\n",
            "2722/2722 [==============================] - 17s 6ms/sample - loss: 3.2580 - acc: 0.0415 - val_loss: 3.2631 - val_acc: 0.0297\n",
            "Epoch 24/50\n",
            "2722/2722 [==============================] - 17s 6ms/sample - loss: 3.2579 - acc: 0.0415 - val_loss: 3.2631 - val_acc: 0.0297\n",
            "Epoch 25/50\n",
            "2722/2722 [==============================] - 17s 6ms/sample - loss: 3.2580 - acc: 0.0353 - val_loss: 3.2632 - val_acc: 0.0297\n",
            "Epoch 26/50\n",
            "2722/2722 [==============================] - 17s 6ms/sample - loss: 3.2580 - acc: 0.0415 - val_loss: 3.2632 - val_acc: 0.0297\n",
            "Epoch 27/50\n",
            "2722/2722 [==============================] - 17s 6ms/sample - loss: 3.2580 - acc: 0.0375 - val_loss: 3.2632 - val_acc: 0.0297\n",
            "Epoch 28/50\n",
            "2722/2722 [==============================] - 17s 6ms/sample - loss: 3.2580 - acc: 0.0367 - val_loss: 3.2633 - val_acc: 0.0297\n",
            "Epoch 29/50\n",
            "2722/2722 [==============================] - 17s 6ms/sample - loss: 3.2579 - acc: 0.0393 - val_loss: 3.2633 - val_acc: 0.0297\n",
            "Epoch 30/50\n",
            "2722/2722 [==============================] - 17s 6ms/sample - loss: 3.2580 - acc: 0.0415 - val_loss: 3.2632 - val_acc: 0.0297\n",
            "Epoch 31/50\n",
            "2722/2722 [==============================] - 17s 6ms/sample - loss: 3.2580 - acc: 0.0415 - val_loss: 3.2632 - val_acc: 0.0297\n",
            "Epoch 32/50\n",
            "2722/2722 [==============================] - 17s 6ms/sample - loss: 3.2580 - acc: 0.0371 - val_loss: 3.2633 - val_acc: 0.0297\n",
            "Epoch 33/50\n",
            "2722/2722 [==============================] - 17s 6ms/sample - loss: 3.2579 - acc: 0.0393 - val_loss: 3.2634 - val_acc: 0.0297\n",
            "Epoch 34/50\n",
            "2722/2722 [==============================] - 17s 6ms/sample - loss: 3.2579 - acc: 0.0386 - val_loss: 3.2635 - val_acc: 0.0297\n",
            "Epoch 35/50\n",
            "2722/2722 [==============================] - 17s 6ms/sample - loss: 3.2579 - acc: 0.0389 - val_loss: 3.2634 - val_acc: 0.0297\n",
            "Epoch 36/50\n",
            "2722/2722 [==============================] - 17s 6ms/sample - loss: 3.2579 - acc: 0.0382 - val_loss: 3.2633 - val_acc: 0.0297\n",
            "Epoch 37/50\n",
            "2722/2722 [==============================] - 17s 6ms/sample - loss: 3.2580 - acc: 0.0371 - val_loss: 3.2633 - val_acc: 0.0297\n",
            "Epoch 38/50\n",
            "2722/2722 [==============================] - 17s 6ms/sample - loss: 3.2580 - acc: 0.0415 - val_loss: 3.2633 - val_acc: 0.0297\n",
            "Epoch 39/50\n",
            "2722/2722 [==============================] - 17s 6ms/sample - loss: 3.2579 - acc: 0.0415 - val_loss: 3.2633 - val_acc: 0.0297\n",
            "Epoch 40/50\n",
            "2722/2722 [==============================] - 17s 6ms/sample - loss: 3.2579 - acc: 0.0364 - val_loss: 3.2632 - val_acc: 0.0297\n",
            "Epoch 41/50\n",
            "2722/2722 [==============================] - 17s 6ms/sample - loss: 3.2579 - acc: 0.0415 - val_loss: 3.2632 - val_acc: 0.0297\n",
            "Epoch 42/50\n",
            "2722/2722 [==============================] - 17s 6ms/sample - loss: 3.2580 - acc: 0.0415 - val_loss: 3.2632 - val_acc: 0.0297\n",
            "Epoch 43/50\n",
            "2722/2722 [==============================] - 17s 6ms/sample - loss: 3.2580 - acc: 0.0404 - val_loss: 3.2633 - val_acc: 0.0297\n",
            "Epoch 44/50\n",
            "2722/2722 [==============================] - 17s 6ms/sample - loss: 3.2579 - acc: 0.0415 - val_loss: 3.2634 - val_acc: 0.0297\n",
            "Epoch 45/50\n",
            "2722/2722 [==============================] - 17s 6ms/sample - loss: 3.2580 - acc: 0.0415 - val_loss: 3.2634 - val_acc: 0.0297\n",
            "Epoch 46/50\n",
            "2722/2722 [==============================] - 17s 6ms/sample - loss: 3.2580 - acc: 0.0415 - val_loss: 3.2633 - val_acc: 0.0297\n",
            "Epoch 47/50\n",
            "2722/2722 [==============================] - 17s 6ms/sample - loss: 3.2580 - acc: 0.0415 - val_loss: 3.2634 - val_acc: 0.0297\n",
            "Epoch 48/50\n",
            "2722/2722 [==============================] - 17s 6ms/sample - loss: 3.2579 - acc: 0.0393 - val_loss: 3.2633 - val_acc: 0.0297\n",
            "Epoch 49/50\n",
            "2722/2722 [==============================] - 17s 6ms/sample - loss: 3.2579 - acc: 0.0415 - val_loss: 3.2634 - val_acc: 0.0297\n",
            "Epoch 50/50\n",
            "2722/2722 [==============================] - 17s 6ms/sample - loss: 3.2580 - acc: 0.0415 - val_loss: 3.2631 - val_acc: 0.0297\n"
          ],
          "name": "stdout"
        }
      ]
    },
    {
      "cell_type": "code",
      "metadata": {
        "id": "nz30DsehNi_2",
        "colab_type": "code",
        "colab": {}
      },
      "source": [
        ""
      ],
      "execution_count": 0,
      "outputs": []
    }
  ]
}