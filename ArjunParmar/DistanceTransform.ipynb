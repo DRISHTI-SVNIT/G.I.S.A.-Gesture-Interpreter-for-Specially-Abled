{
 "cells": [
  {
   "cell_type": "code",
   "execution_count": 74,
   "metadata": {},
   "outputs": [
    {
     "name": "stderr",
     "output_type": "stream",
     "text": [
      "/home/paa/anaconda3/envs/opencv-env/lib/python2.7/site-packages/ipykernel_launcher.py:9: RuntimeWarning: divide by zero encountered in divide\n",
      "  if __name__ == '__main__':\n"
     ]
    }
   ],
   "source": [
    "import cv2\n",
    "import numpy as np\n",
    "image=cv2.imread(\"/home/paa/Dataset/5/65.JPG\")\n",
    "hsv=cv2.cvtColor(image,cv2.COLOR_BGR2HSV)\n",
    "ycbcr=cv2.cvtColor(image, cv2.COLOR_BGR2YCrCb)\n",
    "b,g,r=cv2.split(image)\n",
    "y,cr,cb=cv2.split(ycbcr)\n",
    "h,s,v=cv2.split(hsv)\n",
    "s=s/(h+s+v)\n",
    "paa=((0<=h)*(h<=50)*(0.23<s)*(s<0.68)*(r>95)*(g>40)*(b>20)*(r>g)*(r>b)*(abs(r-g)>15))+((r>95)*(g>40)*(b>20)*(r>g)*(r>b)*(abs(r-g)>15)*(cr>135)*(cb>85)*(y>80)*(cr<=(1.5862*cb+20))*(cr>=(0.3448*cb+76.2069))*(cr>=(-4.5652*cb+234.5652))*(cr<=-1.15*cb+301.75)*(cr<=-2.2857*cb+432.85))\n",
    "b=b*paa\n",
    "g=g*paa\n",
    "r=r*paa\n",
    "new=cv2.merge((b,g,r))\n",
    "paa=paa*255\n",
    "new1=cv2.merge((paa,paa,paa))\n",
    "cv2.imwrite(\"/home/paa/55.jpeg\",new1)\n",
    "new1=cv2.imread(\"/home/paa/55.jpeg\")\n",
    "cv2.imshow('new1',new1)\n",
    "cv2.waitKey(0)\n",
    "cv2.destroyAllWindows()\n",
    "new1 = cv2.cvtColor(new1, cv2.COLOR_BGR2GRAY)\n",
    "cv2.imshow('Distance Transform Image', new1)\n",
    "cv2.waitKey(0)\n",
    "cv2.destroyAllWindows()\n",
    "dist = cv2.distanceTransform(new1, cv2.DIST_L2, 5)\n",
    "cv2.normalize(dist, dist, 0, 1, cv2.NORM_MINMAX)\n",
    "cv2.imshow('Distance Transform Image', dist)\n",
    "cv2.waitKey(0)\n",
    "cv2.destroyAllWindows()"
   ]
  },
  {
   "cell_type": "code",
   "execution_count": 75,
   "metadata": {},
   "outputs": [],
   "source": [
    "dist1=dist\n",
    "M=cv2.moments(dist)\n",
    "# calculate x,y coordinate of center\n",
    "cX = int(M[\"m10\"] / M[\"m00\"])\n",
    "cY = int(M[\"m01\"] / M[\"m00\"])\n",
    "# put text and highlight the center\n",
    "cv2.circle(dist, (cX, cY), 5, (255, 255, 255),-1)\n",
    "#cv2.putText(dist, \"centroid\", (cX - 25, cY - 25),cv2.FONT_HERSHEY_SIMPLEX, 0.5, (255, 255, 255), 2)\n",
    "cv2.imshow(\"center\",dist)\n",
    "cv2.waitKey(0)\n",
    "cv2.destroyAllWindows()"
   ]
  },
  {
   "cell_type": "code",
   "execution_count": 76,
   "metadata": {},
   "outputs": [
    {
     "name": "stdout",
     "output_type": "stream",
     "text": [
      "17.0\n"
     ]
    }
   ],
   "source": [
    "dilation = cv2.dilate(new1,(3,3),iterations = 50)\n",
    "closing = cv2.morphologyEx(dilation, cv2.MORPH_OPEN, (3,3))\n",
    "closing = cv2.morphologyEx(dilation, cv2.MORPH_OPEN, (3,3))\n",
    "edges = cv2.Canny(closing,100,255)\n",
    "cv2.imshow(\"edge\",edges)\n",
    "cv2.waitKey(0)\n",
    "cv2.destroyAllWindows()\n",
    "contours, hierarchy = cv2.findContours(edges, cv2.RETR_EXTERNAL,cv2.CHAIN_APPROX_NONE)\n",
    "c=sorted(contours,key=cv2.contourArea)\n",
    "try:\n",
    "    cnts=c[1]\n",
    "except:\n",
    "    cnts=c[0]\n",
    "dist = (abs(cv2.pointPolygonTest(cnts,(cX,cY),True)))\n",
    "print(dist)\n",
    "dist=1.2*dist\n",
    "cv2.drawContours(edges, contours, -1, (255, 0, 0), 2)\n",
    "cv2.circle(new1, (cX, cY), 5, (255, 255, 255),-1)\n",
    "cv2.circle(edges, (cX, cY),int(dist), (255,255, 255), 1)\n",
    "cv2.imshow(\"center\",edges)\n",
    "cv2.waitKey(0)\n",
    "cv2.destroyAllWindows()"
   ]
  },
  {
   "cell_type": "code",
   "execution_count": 77,
   "metadata": {},
   "outputs": [],
   "source": [
    "cv2.circle(new1, (cX, cY), int(dist), (0, 0, 0),-1)\n",
    "cv2.imshow(\"final\",new1)\n",
    "cv2.waitKey(0)\n",
    "cv2.destroyAllWindows()"
   ]
  },
  {
   "cell_type": "code",
   "execution_count": null,
   "metadata": {},
   "outputs": [],
   "source": []
  },
  {
   "cell_type": "code",
   "execution_count": null,
   "metadata": {},
   "outputs": [],
   "source": []
  }
 ],
 "metadata": {
  "kernelspec": {
   "display_name": "Python 2",
   "language": "python",
   "name": "python2"
  },
  "language_info": {
   "codemirror_mode": {
    "name": "ipython",
    "version": 2
   },
   "file_extension": ".py",
   "mimetype": "text/x-python",
   "name": "python",
   "nbconvert_exporter": "python",
   "pygments_lexer": "ipython2",
   "version": "2.7.16"
  }
 },
 "nbformat": 4,
 "nbformat_minor": 2
}
