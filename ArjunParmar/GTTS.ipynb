{
 "cells": [
  {
   "cell_type": "code",
   "execution_count": 18,
   "metadata": {},
   "outputs": [],
   "source": [
    "from IPython.display import *\n",
    "from gtts import gTTS "
   ]
  },
  {
   "cell_type": "code",
   "execution_count": 3,
   "metadata": {},
   "outputs": [],
   "source": [
    "import os "
   ]
  },
  {
   "cell_type": "code",
   "execution_count": 9,
   "metadata": {},
   "outputs": [],
   "source": [
    "mytext = 'Welcome to jungle!'"
   ]
  },
  {
   "cell_type": "code",
   "execution_count": 10,
   "metadata": {},
   "outputs": [],
   "source": [
    "language = 'en'"
   ]
  },
  {
   "cell_type": "code",
   "execution_count": 14,
   "metadata": {},
   "outputs": [],
   "source": [
    "myobj = gTTS(text=mytext, lang=language, slow=False) "
   ]
  },
  {
   "cell_type": "code",
   "execution_count": 15,
   "metadata": {},
   "outputs": [],
   "source": [
    "myobj.save(\"welcome.mp3\") "
   ]
  },
  {
   "cell_type": "code",
   "execution_count": 33,
   "metadata": {},
   "outputs": [
    {
     "data": {
      "text/plain": [
       "0"
      ]
     },
     "execution_count": 33,
     "metadata": {},
     "output_type": "execute_result"
    }
   ],
   "source": [
    "os.system(\"mpg321 welcome.mp3\") "
   ]
  },
  {
   "cell_type": "code",
   "execution_count": 21,
   "metadata": {},
   "outputs": [
    {
     "data": {
      "text/html": [
       "\n",
       "                <audio controls=\"controls\" autoplay=\"autoplay\">\n",
       "                    <source src=\"data:audio/mpeg;base64,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\" type=\"audio/mpeg\" />\n",
       "                    Your browser does not support the audio element.\n",
       "                </audio>\n",
       "              "
      ],
      "text/plain": [
       "<IPython.lib.display.Audio object>"
      ]
     },
     "execution_count": 21,
     "metadata": {},
     "output_type": "execute_result"
    }
   ],
   "source": [
    "Audio(\"welcome.mp3\", autoplay=True)\n"
   ]
  },
  {
   "cell_type": "code",
   "execution_count": null,
   "metadata": {},
   "outputs": [],
   "source": []
  },
  {
   "cell_type": "code",
   "execution_count": null,
   "metadata": {},
   "outputs": [],
   "source": []
  }
 ],
 "metadata": {
  "kernelspec": {
   "display_name": "Python 2",
   "language": "python",
   "name": "python2"
  },
  "language_info": {
   "codemirror_mode": {
    "name": "ipython",
    "version": 2
   },
   "file_extension": ".py",
   "mimetype": "text/x-python",
   "name": "python",
   "nbconvert_exporter": "python",
   "pygments_lexer": "ipython2",
   "version": "2.7.16"
  }
 },
 "nbformat": 4,
 "nbformat_minor": 2
}
