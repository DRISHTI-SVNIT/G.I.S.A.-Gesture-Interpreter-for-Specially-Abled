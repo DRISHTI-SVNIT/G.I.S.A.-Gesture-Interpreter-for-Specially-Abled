{
 "cells": [
  {
   "cell_type": "code",
   "execution_count": 1,
   "metadata": {},
   "outputs": [],
   "source": [
    "import numpy as np\n",
    "import math\n",
    "import cv2"
   ]
  },
  {
   "cell_type": "code",
   "execution_count": null,
   "metadata": {},
   "outputs": [],
   "source": [
    "def callback(x):\n",
    "    pass\n",
    "cv2.namedWindow('image1')\n",
    "cap=cv2.VideoCapture(0)\n",
    "ilowH = 0\n",
    "ihighH = 255\n",
    "ilowS = 0\n",
    "ihighS = 255\n",
    "ilowV = 0\n",
    "ihighV = 255\n",
    "cv2.createTrackbar('lowH1', 'image1', ilowH, 179, callback)\n",
    "cv2.createTrackbar('highH1', 'image1', ihighH, 179, callback)\n",
    "cv2.createTrackbar('lowS1', 'image1', ilowS, 255, callback)\n",
    "cv2.createTrackbar('highS1', 'image1', ihighS, 255, callback)\n",
    "cv2.createTrackbar('lowV1', 'image1', ilowV, 255, callback)\n",
    "cv2.createTrackbar('highV1', 'image1', ihighV, 255, callback)\n",
    "while True:\n",
    "    ret,frame=cap.read()\n",
    "    ilowH1 = cv2.getTrackbarPos('lowH1', 'image1')\n",
    "    ihighH1 = cv2.getTrackbarPos('highH1', 'image1')\n",
    "    ilowS1 = cv2.getTrackbarPos('lowS1', 'image1')\n",
    "    ihighS1 = cv2.getTrackbarPos('highS1', 'image1')\n",
    "    ilowV1 = cv2.getTrackbarPos('lowV1', 'image1')\n",
    "    ihighV1 = cv2.getTrackbarPos('highV1', 'image1')\n",
    "    hsv=cv2.cvtColor(frame,cv2.COLOR_BGR2HSV)\n",
    "    low1=np.array([ilowH1,ilowS1,ilowV1])\n",
    "    high1=np.array([ihighH1,ihighS1,ihighV1])\n",
    "    img_mask1=cv2.inRange(hsv,low1,high1)\n",
    "    output1=cv2.bitwise_and(frame,frame,mask=img_mask1)\n",
    "    cv2.imshow(\"image1\",output1)\n",
    "    cv2.imshow('final',frame)\n",
    "    if (cv2.waitKey(1) == 13):\n",
    "        break\n",
    "cv2.destroyAllWindows()\n",
    "cap.release()"
   ]
  },
  {
   "cell_type": "code",
   "execution_count": null,
   "metadata": {},
   "outputs": [],
   "source": [
    "def callback(x):\n",
    "    pass\n",
    "cv2.namedWindow('image1')\n",
    "ilowH = 0\n",
    "ihighH = 255\n",
    "ilowS = 0\n",
    "ihighS = 255\n",
    "ilowV = 0\n",
    "ihighV = 255\n",
    "cv2.createTrackbar('lowH1', 'image1', ilowH, 179, callback)\n",
    "cv2.createTrackbar('highH1', 'image1', ihighH, 179, callback)\n",
    "cv2.createTrackbar('lowS1', 'image1', ilowS, 255, callback)\n",
    "cv2.createTrackbar('highS1', 'image1', ihighS, 255, callback)\n",
    "cv2.createTrackbar('lowV1', 'image1', ilowV, 255, callback)\n",
    "cv2.createTrackbar('highV1', 'image1', ihighV, 255, callback)\n",
    "while True:\n",
    "    frame=cv2.imread(\"/home/paa/DEMO/0.JPG\")\n",
    "    ilowH1 = cv2.getTrackbarPos('lowH1', 'image1')\n",
    "    ihighH1 = cv2.getTrackbarPos('highH1', 'image1')\n",
    "    ilowS1 = cv2.getTrackbarPos('lowS1', 'image1')\n",
    "    ihighS1 = cv2.getTrackbarPos('highS1', 'image1')\n",
    "    ilowV1 = cv2.getTrackbarPos('lowV1', 'image1')\n",
    "    ihighV1 = cv2.getTrackbarPos('highV1', 'image1')\n",
    "    hsv=cv2.cvtColor(frame,cv2.COLOR_BGR2HSV)\n",
    "    low1=np.array([ilowH1,ilowS1,ilowV1])\n",
    "    high1=np.array([ihighH1,ihighS1,ihighV1])\n",
    "    img_mask1=cv2.inRange(hsv,low1,high1)\n",
    "    output1=cv2.bitwise_and(frame,frame,mask=img_mask1)\n",
    "    cv2.imshow(\"image1\",output1)\n",
    "    cv2.imshow('final',frame)\n",
    "    if (cv2.waitKey(1) == 13):\n",
    "        break\n",
    "cv2.destroyAllWindows()"
   ]
  },
  {
   "cell_type": "code",
   "execution_count": 7,
   "metadata": {},
   "outputs": [],
   "source": [
    "def callback(x):\n",
    "    pass\n",
    "cv2.namedWindow('image1')\n",
    "cx=100\n",
    "cy=100\n",
    "rw=300\n",
    "rh=300\n",
    "cap=cv2.VideoCapture(0)\n",
    "ilowH = 0\n",
    "ihighH = 255\n",
    "ilowS = 0\n",
    "ihighS = 255\n",
    "ilowV = 0\n",
    "ihighV = 255\n",
    "thresh1=100\n",
    "thresh2=1\n",
    "cv2.createTrackbar('lowH1', 'image1', ilowH, 179, callback)\n",
    "cv2.createTrackbar('highH1', 'image1', ihighH, 179, callback)\n",
    "cv2.createTrackbar('lowS1', 'image1', ilowS, 255, callback)\n",
    "cv2.createTrackbar('highS1', 'image1', ihighS, 255, callback)\n",
    "cv2.createTrackbar('lowV1', 'image1', ilowV, 255, callback)\n",
    "cv2.createTrackbar('highV1', 'image1', ihighV, 255, callback)\n",
    "cv2.createTrackbar('thresh1','image1',thresh1,255,callback)\n",
    "cv2.createTrackbar('thresh2','image1',thresh2,255,callback)\n",
    "while True:\n",
    "    try:\n",
    "        ret,frame=cap.read()\n",
    "        ilowH1 = cv2.getTrackbarPos('lowH1', 'image1')\n",
    "        ihighH1 = cv2.getTrackbarPos('highH1', 'image1')\n",
    "        ilowS1 = cv2.getTrackbarPos('lowS1', 'image1')\n",
    "        ihighS1 = cv2.getTrackbarPos('highS1', 'image1')\n",
    "        ilowV1 = cv2.getTrackbarPos('lowV1', 'image1')\n",
    "        ihighV1 = cv2.getTrackbarPos('highV1', 'image1')\n",
    "        thresh1 = cv2.getTrackbarPos('thresh1', 'image1')\n",
    "        thresh2 = cv2.getTrackbarPos('thresh2', 'image1')\n",
    "        hsv=cv2.cvtColor(frame,cv2.COLOR_BGR2HSV)\n",
    "        low1=np.array([ilowH1,ilowS1,ilowV1])\n",
    "        high1=np.array([ihighH1,ihighS1,ihighV1])\n",
    "        img_mask1=cv2.inRange(hsv,low1,high1)\n",
    "        output1=cv2.bitwise_and(frame,frame,mask=img_mask1)\n",
    "        pre=output1[cx:rw,cy:rh]\n",
    "        pre=cv2.GaussianBlur(pre,(5,5),0)\n",
    "        pre=cv2.cvtColor(pre,cv2.COLOR_BGR2GRAY)\n",
    "        pre=np.uint8(pre)\n",
    "        edged=cv2.Canny(pre,thresh1,thresh2)\n",
    "        cv2.rectangle(frame,(cx,cy),(cx+rw,cy+rh),(255,255,255),5)\n",
    "        cv2.rectangle(output1,(cx,cy),(cx+rw,cy+rh),(255,255,255),5)\n",
    "        cv2.imshow(\"image\",output1)\n",
    "        cv2.imshow(\"image1\",frame)\n",
    "        cv2.imshow(\"image2\",edged)\n",
    "    except:\n",
    "        pass\n",
    "    if (cv2.waitKey(1) == 13):\n",
    "            break\n",
    "cv2.destroyAllWindows()\n",
    "cap.release()"
   ]
  },
  {
   "cell_type": "code",
   "execution_count": 8,
   "metadata": {},
   "outputs": [
    {
     "data": {
      "text/plain": [
       "40"
      ]
     },
     "execution_count": 8,
     "metadata": {},
     "output_type": "execute_result"
    }
   ],
   "source": [
    "thresh1"
   ]
  },
  {
   "cell_type": "code",
   "execution_count": 9,
   "metadata": {},
   "outputs": [
    {
     "data": {
      "text/plain": [
       "95"
      ]
     },
     "execution_count": 9,
     "metadata": {},
     "output_type": "execute_result"
    }
   ],
   "source": [
    "thresh2"
   ]
  },
  {
   "cell_type": "code",
   "execution_count": null,
   "metadata": {},
   "outputs": [],
   "source": []
  }
 ],
 "metadata": {
  "kernelspec": {
   "display_name": "Python 2",
   "language": "python",
   "name": "python2"
  },
  "language_info": {
   "codemirror_mode": {
    "name": "ipython",
    "version": 2
   },
   "file_extension": ".py",
   "mimetype": "text/x-python",
   "name": "python",
   "nbconvert_exporter": "python",
   "pygments_lexer": "ipython2",
   "version": "2.7.16"
  }
 },
 "nbformat": 4,
 "nbformat_minor": 2
}
