{
 "cells": [
  {
   "cell_type": "code",
   "execution_count": 24,
   "metadata": {},
   "outputs": [
    {
     "name": "stdout",
     "output_type": "stream",
     "text": [
      "(100, 100, 3)\n"
     ]
    }
   ],
   "source": [
    "import cv2\n",
    "import numpy as np\n",
    "def flip_image(image,direction):\n",
    "    image=cv2.flip(image,direction)\n",
    "    cv2.imwrite(\"\"/home/paa/flip/0/\"+i\".jpg\",image)\n",
    "def rotate_image(image,deg):\n",
    "    rows, cols,c = image.shape\n",
    "    M = cv2.getRotationMatrix2D((cols/2,rows/2), deg, 1)\n",
    "    image = cv2.warpAffine(image, M, (cols, rows))\n",
    "    cv2.imwrite(\"/home/paa/A/5/\"+\"rotate\"+\".jpg\", image)\n",
    "image=cv2.imread(\"/home/paa/sign/Dataset/1/1(3).JPG\")\n",
    "cv2.imshow(\"image\",image)\n",
    "cv2.waitKey(0)\n",
    "cv2.destroyAllWindows()\n",
    "print(image.shape)\n",
    "rotate_image(image,36)\n",
    "flip_image(image,0)\n",
    "flip_image(image,1)\n",
    "flip_image(image,-1)"
   ]
  },
  {
   "cell_type": "code",
   "execution_count": 64,
   "metadata": {},
   "outputs": [],
   "source": [
    "import cv2\n",
    "import numpy as np\n",
    "j=0\n",
    "def flip_image(image,direction,j):\n",
    "    image=cv2.flip(image,direction)\n",
    "    cv2.imwrite(\"/home/paa/flip/0/\" +str(j) +\".jpeg\" ,image)\n",
    "    \n",
    "for i in range(208):\n",
    "    image=cv2.imread(\"/home/paa/sign/Dataset/0/0(\"+ str(i) +\").JPG\")\n",
    "    cv2.imwrite(\"/home/paa/flip/0/\" +str(j) +\".jpeg\" ,image)\n",
    "    j=j+1\n",
    "    flip_image(image,1,j)\n",
    "    j=j+1"
   ]
  },
  {
   "cell_type": "code",
   "execution_count": null,
   "metadata": {},
   "outputs": [],
   "source": []
  }
 ],
 "metadata": {
  "kernelspec": {
   "display_name": "Python 2",
   "language": "python",
   "name": "python2"
  },
  "language_info": {
   "codemirror_mode": {
    "name": "ipython",
    "version": 2
   },
   "file_extension": ".py",
   "mimetype": "text/x-python",
   "name": "python",
   "nbconvert_exporter": "python",
   "pygments_lexer": "ipython2",
   "version": "2.7.16"
  }
 },
 "nbformat": 4,
 "nbformat_minor": 2
}
