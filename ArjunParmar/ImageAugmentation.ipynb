{
 "cells": [
  {
   "cell_type": "code",
   "execution_count": 24,
   "metadata": {},
   "outputs": [
    {
     "name": "stdout",
     "output_type": "stream",
     "text": [
      "(100, 100, 3)\n"
     ]
    }
   ],
   "source": [
    "import cv2\n",
    "import numpy as np\n",
    "def flip_image(image,direction):\n",
    "    image=cv2.flip(image,direction)\n",
    "    cv2.imwrite(\"\"/home/paa/flip/0/\"+i\".jpg\",image)\n",
    "def rotate_image(image,deg):\n",
    "    rows, cols,c = image.shape\n",
    "    M = cv2.getRotationMatrix2D((cols/2,rows/2), deg, 1)\n",
    "    image = cv2.warpAffine(image, M, (cols, rows))\n",
    "    cv2.imwrite(\"/home/paa/A/5/\"+\"rotate\"+\".jpg\", image)\n",
    "image=cv2.imread(\"/home/paa/sign/Dataset/1/1(3).JPG\")\n",
    "cv2.imshow(\"image\",image)\n",
    "cv2.waitKey(0)\n",
    "cv2.destroyAllWindows()\n",
    "print(image.shape)\n",
    "rotate_image(image,45)\n",
    "rotate_image(image,-45)\n",
    "flip_image(image,1)"
   ]
  },
  {
   "cell_type": "code",
   "execution_count": 63,
   "metadata": {},
   "outputs": [],
   "source": [
    "import cv2\n",
    "import numpy as np\n",
    "j=1\n",
    "z=9\n",
    "def flip_image(image,direction,j,z):\n",
    "    image=cv2.flip(image,direction)\n",
    "    cv2.imwrite(\"/home/paa/Newdataset/\" +str(z)+ \"/\" +str(j) +\".jpeg\" ,image)\n",
    "def rotate_image(image,deg,j,z):\n",
    "    rows, cols,c = image.shape\n",
    "    M = cv2.getRotationMatrix2D((cols/2,rows/2), deg, 1)\n",
    "    image = cv2.warpAffine(image, M, (cols, rows))\n",
    "    cv2.imwrite(\"/home/paa/Newdataset/\"+str(z)+\"/\"+str(j)+\".jpeg\", image) \n",
    "for i in range(1,205):\n",
    "    image=cv2.imread(\"/../../../home/paa/Dataset/\"+str(z)+\"/\" +str(i) +\".JPG\")\n",
    "    cv2.imwrite(\"/home/paa/Newdataset/\"+str(z)+\"/\" +str(j) +\".jpeg\" ,image)\n",
    "    j=j+1\n",
    "    darkimg=image[:,:,:]*.75 #darkiamage\n",
    "    cv2.imwrite(\"/home/paa/Newdataset/\"+str(z)+\"/\" +str(j) +\".jpeg\" ,darkimg)\n",
    "    j=j+1\n",
    "    brightimg=image[:,:,:]*1.1 #brightimage\n",
    "    cv2.imwrite(\"/home/paa/Newdataset/\"+str(z)+\"/\" +str(j) +\".jpeg\" ,brightimg)\n",
    "    j=j+1\n",
    "    flip_image(image,1,j,z)\n",
    "    j=j+1\n",
    "    rotate_image(image,20,j,z)\n",
    "    j=j+1\n",
    "    rotate_image(image,-20,j,z)\n",
    "    j=j+1\n",
    "    "
   ]
  },
  {
   "cell_type": "code",
   "execution_count": 47,
   "metadata": {},
   "outputs": [
    {
     "name": "stdout",
     "output_type": "stream",
     "text": [
      "[[[180 180 180]\n",
      "  [181 181 181]\n",
      "  [183 183 183]\n",
      "  ...\n",
      "  [163 168 169]\n",
      "  [158 167 170]\n",
      "  [155 167 169]]\n",
      "\n",
      " [[180 180 180]\n",
      "  [182 182 182]\n",
      "  [183 183 183]\n",
      "  ...\n",
      "  [171 173 174]\n",
      "  [164 169 172]\n",
      "  [160 167 170]]\n",
      "\n",
      " [[180 180 180]\n",
      "  [182 182 182]\n",
      "  [183 183 183]\n",
      "  ...\n",
      "  [171 175 176]\n",
      "  [163 170 173]\n",
      "  [157 166 169]]\n",
      "\n",
      " ...\n",
      "\n",
      " [[155 154 158]\n",
      "  [156 155 159]\n",
      "  [157 156 160]\n",
      "  ...\n",
      "  [ 50  79 116]\n",
      "  [ 48  78 113]\n",
      "  [ 48  78 113]]\n",
      "\n",
      " [[152 153 157]\n",
      "  [154 155 159]\n",
      "  [154 155 159]\n",
      "  ...\n",
      "  [ 51  80 117]\n",
      "  [ 49  79 114]\n",
      "  [ 47  77 112]]\n",
      "\n",
      " [[152 153 157]\n",
      "  [153 154 158]\n",
      "  [153 154 158]\n",
      "  ...\n",
      "  [ 52  81 118]\n",
      "  [ 49  79 114]\n",
      "  [ 47  77 112]]]\n"
     ]
    }
   ],
   "source": []
  },
  {
   "cell_type": "code",
   "execution_count": null,
   "metadata": {},
   "outputs": [],
   "source": []
  }
 ],
 "metadata": {
  "kernelspec": {
   "display_name": "Python 2",
   "language": "python",
   "name": "python2"
  },
  "language_info": {
   "codemirror_mode": {
    "name": "ipython",
    "version": 2
   },
   "file_extension": ".py",
   "mimetype": "text/x-python",
   "name": "python",
   "nbconvert_exporter": "python",
   "pygments_lexer": "ipython2",
   "version": "2.7.16"
  }
 },
 "nbformat": 4,
 "nbformat_minor": 2
}
