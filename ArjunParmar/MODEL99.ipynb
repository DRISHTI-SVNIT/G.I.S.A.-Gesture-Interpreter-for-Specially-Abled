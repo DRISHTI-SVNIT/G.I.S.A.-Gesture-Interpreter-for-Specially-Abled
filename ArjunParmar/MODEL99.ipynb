{
 "cells": [
  {
   "cell_type": "code",
   "execution_count": 1,
   "metadata": {},
   "outputs": [],
   "source": [
    "import tensorflow as tf\n",
    "from tensorflow.keras.datasets import cifar10\n",
    "from tensorflow.keras.preprocessing.image import ImageDataGenerator\n",
    "from tensorflow.keras.models import Sequential\n",
    "from tensorflow.keras.layers import Dense, Dropout, Activation, Flatten\n",
    "from tensorflow.keras.layers import Conv2D, MaxPooling2D\n",
    "\n",
    "import pickle\n",
    "import numpy as np"
   ]
  },
  {
   "cell_type": "code",
   "execution_count": 5,
   "metadata": {},
   "outputs": [
    {
     "name": "stdout",
     "output_type": "stream",
     "text": [
      "Train on 9265 samples, validate on 3089 samples\n",
      "Epoch 1/20\n",
      "9265/9265 [==============================] - 1185s 128ms/sample - loss: 1.5441 - accuracy: 0.4513 - val_loss: 0.7448 - val_accuracy: 0.7342\n",
      "Epoch 2/20\n",
      "9265/9265 [==============================] - 1181s 127ms/sample - loss: 0.4247 - accuracy: 0.8611 - val_loss: 0.3467 - val_accuracy: 0.8893\n",
      "Epoch 3/20\n",
      "9265/9265 [==============================] - 1180s 127ms/sample - loss: 0.2508 - accuracy: 0.9229 - val_loss: 0.4190 - val_accuracy: 0.8747\n",
      "Epoch 4/20\n",
      "9265/9265 [==============================] - 1180s 127ms/sample - loss: 0.1668 - accuracy: 0.9522 - val_loss: 0.2456 - val_accuracy: 0.9320\n",
      "Epoch 5/20\n",
      "9265/9265 [==============================] - 1179s 127ms/sample - loss: 0.1205 - accuracy: 0.9631 - val_loss: 0.2190 - val_accuracy: 0.9385\n",
      "Epoch 6/20\n",
      "9265/9265 [==============================] - 1179s 127ms/sample - loss: 0.0825 - accuracy: 0.9745 - val_loss: 0.2824 - val_accuracy: 0.9298\n",
      "Epoch 7/20\n",
      "9265/9265 [==============================] - 1180s 127ms/sample - loss: 0.0692 - accuracy: 0.9775 - val_loss: 0.3133 - val_accuracy: 0.9191\n",
      "Epoch 8/20\n",
      "9265/9265 [==============================] - 1180s 127ms/sample - loss: 0.0491 - accuracy: 0.9840 - val_loss: 0.2564 - val_accuracy: 0.9417\n",
      "Epoch 9/20\n",
      "9265/9265 [==============================] - 11018s 1s/sample - loss: 0.0556 - accuracy: 0.9826 - val_loss: 0.2761 - val_accuracy: 0.9349\n",
      "Epoch 10/20\n",
      "9265/9265 [==============================] - 1179s 127ms/sample - loss: 0.0465 - accuracy: 0.9855 - val_loss: 0.2374 - val_accuracy: 0.9531\n",
      "Epoch 11/20\n",
      "9265/9265 [==============================] - 1180s 127ms/sample - loss: 0.0146 - accuracy: 0.9961 - val_loss: 0.2647 - val_accuracy: 0.9511\n",
      "Epoch 12/20\n",
      "9265/9265 [==============================] - 1179s 127ms/sample - loss: 0.0419 - accuracy: 0.9872 - val_loss: 0.2974 - val_accuracy: 0.9385\n",
      "Epoch 13/20\n",
      "9265/9265 [==============================] - 1182s 128ms/sample - loss: 0.0302 - accuracy: 0.9891 - val_loss: 0.3124 - val_accuracy: 0.9463\n",
      "Epoch 14/20\n",
      "9265/9265 [==============================] - 1182s 128ms/sample - loss: 0.0280 - accuracy: 0.9915 - val_loss: 0.3070 - val_accuracy: 0.9430\n",
      "Epoch 15/20\n",
      "9265/9265 [==============================] - 1182s 128ms/sample - loss: 0.0183 - accuracy: 0.9943 - val_loss: 0.3594 - val_accuracy: 0.9365\n",
      "Epoch 16/20\n",
      "9265/9265 [==============================] - 3917s 423ms/sample - loss: 0.0302 - accuracy: 0.9905 - val_loss: 0.3531 - val_accuracy: 0.9401\n",
      "Epoch 17/20\n",
      "9265/9265 [==============================] - 1183s 128ms/sample - loss: 0.0254 - accuracy: 0.9920 - val_loss: 0.3512 - val_accuracy: 0.9414\n",
      "Epoch 18/20\n",
      "9265/9265 [==============================] - 1184s 128ms/sample - loss: 0.0309 - accuracy: 0.9914 - val_loss: 0.3082 - val_accuracy: 0.9479\n",
      "Epoch 19/20\n",
      "9265/9265 [==============================] - 1186s 128ms/sample - loss: 0.0316 - accuracy: 0.9899 - val_loss: 0.3021 - val_accuracy: 0.9398\n",
      "Epoch 20/20\n",
      "9265/9265 [==============================] - 1180s 127ms/sample - loss: 0.0212 - accuracy: 0.9946 - val_loss: 0.2890 - val_accuracy: 0.9547\n",
      "WARNING:tensorflow:From /home/paa/anaconda3/envs/opencv-env/lib/python2.7/site-packages/tensorflow_core/python/ops/resource_variable_ops.py:1781: calling __init__ (from tensorflow.python.ops.resource_variable_ops) with constraint is deprecated and will be removed in a future version.\n",
      "Instructions for updating:\n",
      "If using Keras pass *_constraint arguments to layers.\n",
      "INFO:tensorflow:Assets written to: CNNFINAL.model/assets\n"
     ]
    }
   ],
   "source": [
    "pickle_in = open(\"X.pickle\",\"rb\")\n",
    "X = pickle.load(pickle_in)\n",
    "\n",
    "\n",
    "pickle_in = open(\"y.pickle\",\"rb\")\n",
    "y = pickle.load(pickle_in)\n",
    "\n",
    "X = X/255.0\n",
    "model = Sequential()\n",
    "\n",
    "model.add(Conv2D(256, (3, 3), input_shape=X.shape[1:]))\n",
    "model.add(Activation('relu'))\n",
    "model.add(MaxPooling2D(pool_size=(2, 2)))\n",
    "\n",
    "model.add(Conv2D(256, (3, 3)))\n",
    "model.add(Activation('relu'))\n",
    "model.add(MaxPooling2D(pool_size=(2, 2)))\n",
    "\n",
    "model.add(Conv2D(256, (3, 3)))\n",
    "model.add(Activation('relu'))\n",
    "model.add(MaxPooling2D(pool_size=(2, 2)))\n",
    "\n",
    "\n",
    "model.add(Flatten())  # this converts our 3D feature maps to 1D feature vectors\n",
    "\n",
    "model.add(Dense(64))\n",
    "\n",
    "model.add(Dense(10))\n",
    "model.add(Activation('softmax'))\n",
    "\n",
    "model.compile(loss='sparse_categorical_crossentropy',\n",
    "              optimizer='adam',\n",
    "              metrics=['accuracy'])\n",
    "\n",
    "model.fit(X, y, batch_size=32, epochs=20, validation_split=0.25)\n",
    "\n",
    "model.save('CNNFINAL.model')\n",
    "model.save_weights('CNNFINALWEIGHTS.h5')"
   ]
  },
  {
   "cell_type": "code",
   "execution_count": null,
   "metadata": {},
   "outputs": [],
   "source": []
  }
 ],
 "metadata": {
  "kernelspec": {
   "display_name": "Python 2",
   "language": "python",
   "name": "python2"
  },
  "language_info": {
   "codemirror_mode": {
    "name": "ipython",
    "version": 2
   },
   "file_extension": ".py",
   "mimetype": "text/x-python",
   "name": "python",
   "nbconvert_exporter": "python",
   "pygments_lexer": "ipython2",
   "version": "2.7.16"
  }
 },
 "nbformat": 4,
 "nbformat_minor": 2
}
