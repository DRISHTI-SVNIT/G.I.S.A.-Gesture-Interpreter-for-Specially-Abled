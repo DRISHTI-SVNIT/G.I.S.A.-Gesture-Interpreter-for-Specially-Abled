{
 "cells": [
  {
   "cell_type": "code",
   "execution_count": null,
   "metadata": {},
   "outputs": [],
   "source": [
    "import cv2\n",
    "import tensorflow as tf\n",
    "import numpy as np\n",
    "model = tf.keras.models.load_model(\"CNNDISTANCE2.model\")"
   ]
  },
  {
   "cell_type": "code",
   "execution_count": null,
   "metadata": {},
   "outputs": [],
   "source": [
    "def prepare(ima):\n",
    "    IMG_SIZE = 100# 50 in txt-based\n",
    "    img_array=ima*255\n",
    "    #img_array = cv2.cvtColor(ima,cv2.COLOR_BGR2GRAY)\n",
    "    img_array=img_array/255.0  \n",
    "    new_array = cv2.resize(img_array, (IMG_SIZE, IMG_SIZE))  # resize image to match model's expected sizing\n",
    "    return new_array.reshape(-1,IMG_SIZE, IMG_SIZE,1)"
   ]
  },
  {
   "cell_type": "code",
   "execution_count": null,
   "metadata": {},
   "outputs": [],
   "source": [
    "def paa_skin(image):  \n",
    "    hsv=cv2.cvtColor(image,cv2.COLOR_BGR2HSV)\n",
    "    ycbcr=cv2.cvtColor(image, cv2.COLOR_BGR2YCrCb)\n",
    "    b,g,r=cv2.split(image)\n",
    "    y,cr,cb=cv2.split(ycbcr)\n",
    "    h,s,v=cv2.split(hsv)\n",
    "    s=s/(h+s+v)\n",
    "    paa=((0<=h)*(h<=50)*(0.23<s)*(s<0.68)*(r>95)*(g>40)*(b>20)*(r>g)*(r>b)*(abs(r-g)>15))+((r>95)*(g>40)*(b>20)*(r>g)*(r>b)*(abs(r-g)>15)*(cr>135)*(cb>85)*(y>80)*(cr<=(1.5862*cb+20))*(cr>=(0.3448*cb+76.2069))*(cr>=(-4.5652*cb+234.5652))*(cr<=-1.15*cb+301.75)*(cr<=-2.2857*cb+432.85))\n",
    "    b=b*paa\n",
    "    g=g*paa\n",
    "    r=r*paa\n",
    "    new=cv2.merge((b,g,r))\n",
    "    paa=paa*255\n",
    "    new1=cv2.merge((paa,paa,paa))\n",
    "    cv2.imwrite(\"/home/paa/55.jpeg\",new1)\n",
    "    new1=cv2.imread(\"/home/paa/55.jpeg\")\n",
    "    new1 = cv2.cvtColor(new1, cv2.COLOR_BGR2GRAY)\n",
    "    dist = cv2.distanceTransform(new1, cv2.DIST_L2, 5)\n",
    "    cv2.normalize(dist, dist, 0, 1.0, cv2.NORM_MINMAX)\n",
    "    return dist"
   ]
  },
  {
   "cell_type": "code",
   "execution_count": null,
   "metadata": {},
   "outputs": [],
   "source": [
    "# c=0\n",
    "# for i in range(1,200):\n",
    "#     image=cv2.imread(\"/home/paa/Dataset/6/\"+str(i)+\".JPG\")\n",
    "#     dist=paa_skin(image)\n",
    "#     prediction = model.predict([prepare(dist)])\n",
    "#     prediction=np.argmax(prediction)\n",
    "#     x1=prediction\n",
    "#     if(x1!=6):\n",
    "#         c=c+1\n",
    "#         print(str(i) + \"-prediction here is \" + str(x1))\n",
    "# print(\"count is \" + str(c))"
   ]
  },
  {
   "cell_type": "code",
   "execution_count": null,
   "metadata": {},
   "outputs": [],
   "source": [
    "image=cv2.imread(\"/home/paa/t5.jpeg\")\n",
    "dist=paa_skin(image)\n",
    "prediction = model.predict([prepare(dist)])\n",
    "prediction=np.argmax(prediction)\n",
    "print(prediction)"
   ]
  },
  {
   "cell_type": "code",
   "execution_count": null,
   "metadata": {},
   "outputs": [],
   "source": [
    "# c=0\n",
    "# for i in range(1,100):\n",
    "#     image=cv2.imread(\"/home/paa/test/\"+str(i)+\".JPG\")\n",
    "#     dist=paa_skin(image)\n",
    "#     prediction = model.predict([prepare(dist)])\n",
    "#     prediction=np.argmax(prediction)\n",
    "#     x1=prediction\n",
    "#     print(str(i) + \"-prediction here is \" + str(x1))\n"
   ]
  },
  {
   "cell_type": "code",
   "execution_count": null,
   "metadata": {},
   "outputs": [],
   "source": []
  }
 ],
 "metadata": {
  "kernelspec": {
   "display_name": "Python 2",
   "language": "python",
   "name": "python2"
  },
  "language_info": {
   "codemirror_mode": {
    "name": "ipython",
    "version": 2
   },
   "file_extension": ".py",
   "mimetype": "text/x-python",
   "name": "python",
   "nbconvert_exporter": "python",
   "pygments_lexer": "ipython2",
   "version": "2.7.16"
  }
 },
 "nbformat": 4,
 "nbformat_minor": 2
}
